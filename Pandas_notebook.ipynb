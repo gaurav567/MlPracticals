{
  "nbformat": 4,
  "nbformat_minor": 0,
  "metadata": {
    "colab": {
      "name": "Pandas notebook.ipynb",
      "version": "0.3.2",
      "provenance": [],
      "collapsed_sections": []
    },
    "kernelspec": {
      "name": "python3",
      "display_name": "Python 3"
    }
  },
  "cells": [
    {
      "cell_type": "code",
      "metadata": {
        "id": "omtLpntTVE7D",
        "colab_type": "code",
        "colab": {}
      },
      "source": [
        "import pandas as pd\n",
        "import numpy as np"
      ],
      "execution_count": 0,
      "outputs": []
    },
    {
      "cell_type": "markdown",
      "metadata": {
        "id": "RhpQIotlV7gV",
        "colab_type": "text"
      },
      "source": [
        "Extract first n characters from left of column in pandas python"
      ]
    },
    {
      "cell_type": "code",
      "metadata": {
        "id": "-jg-Zx32VKhD",
        "colab_type": "code",
        "outputId": "70e3bf60-2bf3-4586-de1c-cd4109b0afea",
        "colab": {
          "base_uri": "https://localhost:8080/",
          "height": 123
        }
      },
      "source": [
        "df1 = {\n",
        "    'State':['Arizona AZ','Georgia GG','Newyork NY','Indiana IN','Florida FL'],\n",
        "   'Score':[62,47,55,74,31]}\n",
        " \n",
        "df1 = pd.DataFrame(df1,columns=['State','Score'])\n",
        "print(df1)"
      ],
      "execution_count": 0,
      "outputs": [
        {
          "output_type": "stream",
          "text": [
            "        State  Score\n",
            "0  Arizona AZ     62\n",
            "1  Georgia GG     47\n",
            "2  Newyork NY     55\n",
            "3  Indiana IN     74\n",
            "4  Florida FL     31\n"
          ],
          "name": "stdout"
        }
      ]
    },
    {
      "cell_type": "code",
      "metadata": {
        "id": "lVX1SYdkVKni",
        "colab_type": "code",
        "outputId": "f326f6a6-5fae-4517-c22a-c51ea4dc8a05",
        "colab": {
          "base_uri": "https://localhost:8080/",
          "height": 123
        }
      },
      "source": [
        "df1['StateInitial'] = df1['State'].str[:2]\n",
        "print(df1)"
      ],
      "execution_count": 0,
      "outputs": [
        {
          "output_type": "stream",
          "text": [
            "        State  Score StateInitial\n",
            "0  Arizona AZ     62           Ar\n",
            "1  Georgia GG     47           Ge\n",
            "2  Newyork NY     55           Ne\n",
            "3  Indiana IN     74           In\n",
            "4  Florida FL     31           Fl\n"
          ],
          "name": "stdout"
        }
      ]
    },
    {
      "cell_type": "markdown",
      "metadata": {
        "id": "q5mXfsznVyU8",
        "colab_type": "text"
      },
      "source": [
        "Extract last n characters from right of the column in pandas python"
      ]
    },
    {
      "cell_type": "code",
      "metadata": {
        "id": "CM5amZlVVKto",
        "colab_type": "code",
        "outputId": "5fd8d200-cae0-4c57-c54c-714564096e13",
        "colab": {
          "base_uri": "https://localhost:8080/",
          "height": 123
        }
      },
      "source": [
        "df1['Statefinal'] = df1['State'].str[-2:]\n",
        "print(df1)"
      ],
      "execution_count": 0,
      "outputs": [
        {
          "output_type": "stream",
          "text": [
            "        State  Score StateInitial Statefinal\n",
            "0  Arizona AZ     62           Ar         AZ\n",
            "1  Georgia GG     47           Ge         GG\n",
            "2  Newyork NY     55           Ne         NY\n",
            "3  Indiana IN     74           In         IN\n",
            "4  Florida FL     31           Fl         FL\n"
          ],
          "name": "stdout"
        }
      ]
    },
    {
      "cell_type": "markdown",
      "metadata": {
        "id": "QpU43UwPXnjz",
        "colab_type": "text"
      },
      "source": [
        "Replace a substring with another substring in pandas"
      ]
    },
    {
      "cell_type": "code",
      "metadata": {
        "id": "Ebp9cEibVKs2",
        "colab_type": "code",
        "outputId": "cebc20f6-dead-49be-ac98-8806ce6c34b3",
        "colab": {
          "base_uri": "https://localhost:8080/",
          "height": 197
        }
      },
      "source": [
        "df1.replace(regex=['zona'], value='Arizona')"
      ],
      "execution_count": 0,
      "outputs": [
        {
          "output_type": "execute_result",
          "data": {
            "text/html": [
              "<div>\n",
              "<style scoped>\n",
              "    .dataframe tbody tr th:only-of-type {\n",
              "        vertical-align: middle;\n",
              "    }\n",
              "\n",
              "    .dataframe tbody tr th {\n",
              "        vertical-align: top;\n",
              "    }\n",
              "\n",
              "    .dataframe thead th {\n",
              "        text-align: right;\n",
              "    }\n",
              "</style>\n",
              "<table border=\"1\" class=\"dataframe\">\n",
              "  <thead>\n",
              "    <tr style=\"text-align: right;\">\n",
              "      <th></th>\n",
              "      <th>State</th>\n",
              "      <th>Score</th>\n",
              "      <th>StateInitial</th>\n",
              "      <th>Statefinal</th>\n",
              "    </tr>\n",
              "  </thead>\n",
              "  <tbody>\n",
              "    <tr>\n",
              "      <th>0</th>\n",
              "      <td>AriArizona AZ</td>\n",
              "      <td>62</td>\n",
              "      <td>Ar</td>\n",
              "      <td>AZ</td>\n",
              "    </tr>\n",
              "    <tr>\n",
              "      <th>1</th>\n",
              "      <td>Georgia GG</td>\n",
              "      <td>47</td>\n",
              "      <td>Ge</td>\n",
              "      <td>GG</td>\n",
              "    </tr>\n",
              "    <tr>\n",
              "      <th>2</th>\n",
              "      <td>Newyork NY</td>\n",
              "      <td>55</td>\n",
              "      <td>Ne</td>\n",
              "      <td>NY</td>\n",
              "    </tr>\n",
              "    <tr>\n",
              "      <th>3</th>\n",
              "      <td>Indiana IN</td>\n",
              "      <td>74</td>\n",
              "      <td>In</td>\n",
              "      <td>IN</td>\n",
              "    </tr>\n",
              "    <tr>\n",
              "      <th>4</th>\n",
              "      <td>Florida FL</td>\n",
              "      <td>31</td>\n",
              "      <td>Fl</td>\n",
              "      <td>FL</td>\n",
              "    </tr>\n",
              "  </tbody>\n",
              "</table>\n",
              "</div>"
            ],
            "text/plain": [
              "           State  Score StateInitial Statefinal\n",
              "0  AriArizona AZ     62           Ar         AZ\n",
              "1     Georgia GG     47           Ge         GG\n",
              "2     Newyork NY     55           Ne         NY\n",
              "3     Indiana IN     74           In         IN\n",
              "4     Florida FL     31           Fl         FL"
            ]
          },
          "metadata": {
            "tags": []
          },
          "execution_count": 6
        }
      ]
    },
    {
      "cell_type": "markdown",
      "metadata": {
        "id": "q8w1YyOyYPEc",
        "colab_type": "text"
      },
      "source": [
        "Replace space with underscore:"
      ]
    },
    {
      "cell_type": "code",
      "metadata": {
        "id": "YXq_-MBZXuWE",
        "colab_type": "code",
        "outputId": "4d6c72bb-aa25-4b19-8f12-005c2440dec8",
        "colab": {
          "base_uri": "https://localhost:8080/",
          "height": 197
        }
      },
      "source": [
        "df1.replace(regex=\" \", value='_')"
      ],
      "execution_count": 0,
      "outputs": [
        {
          "output_type": "execute_result",
          "data": {
            "text/html": [
              "<div>\n",
              "<style scoped>\n",
              "    .dataframe tbody tr th:only-of-type {\n",
              "        vertical-align: middle;\n",
              "    }\n",
              "\n",
              "    .dataframe tbody tr th {\n",
              "        vertical-align: top;\n",
              "    }\n",
              "\n",
              "    .dataframe thead th {\n",
              "        text-align: right;\n",
              "    }\n",
              "</style>\n",
              "<table border=\"1\" class=\"dataframe\">\n",
              "  <thead>\n",
              "    <tr style=\"text-align: right;\">\n",
              "      <th></th>\n",
              "      <th>State</th>\n",
              "      <th>Score</th>\n",
              "      <th>StateInitial</th>\n",
              "      <th>Statefinal</th>\n",
              "    </tr>\n",
              "  </thead>\n",
              "  <tbody>\n",
              "    <tr>\n",
              "      <th>0</th>\n",
              "      <td>Arizona_AZ</td>\n",
              "      <td>62</td>\n",
              "      <td>Ar</td>\n",
              "      <td>AZ</td>\n",
              "    </tr>\n",
              "    <tr>\n",
              "      <th>1</th>\n",
              "      <td>Georgia_GG</td>\n",
              "      <td>47</td>\n",
              "      <td>Ge</td>\n",
              "      <td>GG</td>\n",
              "    </tr>\n",
              "    <tr>\n",
              "      <th>2</th>\n",
              "      <td>Newyork_NY</td>\n",
              "      <td>55</td>\n",
              "      <td>Ne</td>\n",
              "      <td>NY</td>\n",
              "    </tr>\n",
              "    <tr>\n",
              "      <th>3</th>\n",
              "      <td>Indiana_IN</td>\n",
              "      <td>74</td>\n",
              "      <td>In</td>\n",
              "      <td>IN</td>\n",
              "    </tr>\n",
              "    <tr>\n",
              "      <th>4</th>\n",
              "      <td>Florida_FL</td>\n",
              "      <td>31</td>\n",
              "      <td>Fl</td>\n",
              "      <td>FL</td>\n",
              "    </tr>\n",
              "  </tbody>\n",
              "</table>\n",
              "</div>"
            ],
            "text/plain": [
              "        State  Score StateInitial Statefinal\n",
              "0  Arizona_AZ     62           Ar         AZ\n",
              "1  Georgia_GG     47           Ge         GG\n",
              "2  Newyork_NY     55           Ne         NY\n",
              "3  Indiana_IN     74           In         IN\n",
              "4  Florida_FL     31           Fl         FL"
            ]
          },
          "metadata": {
            "tags": []
          },
          "execution_count": 7
        }
      ]
    },
    {
      "cell_type": "markdown",
      "metadata": {
        "id": "efui0n27YTXk",
        "colab_type": "text"
      },
      "source": [
        "Replace a pattern of substring using regular expression:"
      ]
    },
    {
      "cell_type": "code",
      "metadata": {
        "id": "tNUsSNyZXub8",
        "colab_type": "code",
        "outputId": "19937549-83ac-4dc8-f119-9f3d520dc05d",
        "colab": {
          "base_uri": "https://localhost:8080/",
          "height": 197
        }
      },
      "source": [
        "df1.replace(regex=['^.'],value='HE')"
      ],
      "execution_count": 0,
      "outputs": [
        {
          "output_type": "execute_result",
          "data": {
            "text/html": [
              "<div>\n",
              "<style scoped>\n",
              "    .dataframe tbody tr th:only-of-type {\n",
              "        vertical-align: middle;\n",
              "    }\n",
              "\n",
              "    .dataframe tbody tr th {\n",
              "        vertical-align: top;\n",
              "    }\n",
              "\n",
              "    .dataframe thead th {\n",
              "        text-align: right;\n",
              "    }\n",
              "</style>\n",
              "<table border=\"1\" class=\"dataframe\">\n",
              "  <thead>\n",
              "    <tr style=\"text-align: right;\">\n",
              "      <th></th>\n",
              "      <th>State</th>\n",
              "      <th>Score</th>\n",
              "      <th>StateInitial</th>\n",
              "      <th>Statefinal</th>\n",
              "    </tr>\n",
              "  </thead>\n",
              "  <tbody>\n",
              "    <tr>\n",
              "      <th>0</th>\n",
              "      <td>HErizona AZ</td>\n",
              "      <td>62</td>\n",
              "      <td>HEr</td>\n",
              "      <td>HEZ</td>\n",
              "    </tr>\n",
              "    <tr>\n",
              "      <th>1</th>\n",
              "      <td>HEeorgia GG</td>\n",
              "      <td>47</td>\n",
              "      <td>HEe</td>\n",
              "      <td>HEG</td>\n",
              "    </tr>\n",
              "    <tr>\n",
              "      <th>2</th>\n",
              "      <td>HEewyork NY</td>\n",
              "      <td>55</td>\n",
              "      <td>HEe</td>\n",
              "      <td>HEY</td>\n",
              "    </tr>\n",
              "    <tr>\n",
              "      <th>3</th>\n",
              "      <td>HEndiana IN</td>\n",
              "      <td>74</td>\n",
              "      <td>HEn</td>\n",
              "      <td>HEN</td>\n",
              "    </tr>\n",
              "    <tr>\n",
              "      <th>4</th>\n",
              "      <td>HElorida FL</td>\n",
              "      <td>31</td>\n",
              "      <td>HEl</td>\n",
              "      <td>HEL</td>\n",
              "    </tr>\n",
              "  </tbody>\n",
              "</table>\n",
              "</div>"
            ],
            "text/plain": [
              "         State  Score StateInitial Statefinal\n",
              "0  HErizona AZ     62          HEr        HEZ\n",
              "1  HEeorgia GG     47          HEe        HEG\n",
              "2  HEewyork NY     55          HEe        HEY\n",
              "3  HEndiana IN     74          HEn        HEN\n",
              "4  HElorida FL     31          HEl        HEL"
            ]
          },
          "metadata": {
            "tags": []
          },
          "execution_count": 8
        }
      ]
    },
    {
      "cell_type": "markdown",
      "metadata": {
        "id": "Ch-nAYoyYQVK",
        "colab_type": "text"
      },
      "source": [
        "Regular expression Replace of substring of a column in pandas python"
      ]
    },
    {
      "cell_type": "code",
      "metadata": {
        "id": "d9aTGRfrXuhZ",
        "colab_type": "code",
        "outputId": "ef9a77c5-4644-4421-85c0-44fc1ec0933c",
        "colab": {
          "base_uri": "https://localhost:8080/",
          "height": 105
        }
      },
      "source": [
        "df2={\n",
        "    'state':[\"Tom\",\"Dick\",\"Harry\"],\n",
        "    'Score':[0,1,2]\n",
        "}\n",
        "\n",
        "print(df2)\n",
        "df3=pd.DataFrame(df2,columns=['state','Score'])\n",
        "print(df3)"
      ],
      "execution_count": 0,
      "outputs": [
        {
          "output_type": "stream",
          "text": [
            "{'state': ['Tom', 'Dick', 'Harry'], 'Score': [0, 1, 2]}\n",
            "   state  Score\n",
            "0    Tom      0\n",
            "1   Dick      1\n",
            "2  Harry      2\n"
          ],
          "name": "stdout"
        }
      ]
    },
    {
      "cell_type": "markdown",
      "metadata": {
        "id": "0fZppktealmR",
        "colab_type": "text"
      },
      "source": [
        "Replace last character of string of column in pandas python"
      ]
    },
    {
      "cell_type": "code",
      "metadata": {
        "id": "Rz59l_vWXumD",
        "colab_type": "code",
        "outputId": "e73d0d41-3fb3-4e67-a79f-78fdbfdadbca",
        "colab": {
          "base_uri": "https://localhost:8080/",
          "height": 137
        }
      },
      "source": [
        "df3.replace(regex=['(.)$'],value='HE')"
      ],
      "execution_count": 0,
      "outputs": [
        {
          "output_type": "execute_result",
          "data": {
            "text/html": [
              "<div>\n",
              "<style scoped>\n",
              "    .dataframe tbody tr th:only-of-type {\n",
              "        vertical-align: middle;\n",
              "    }\n",
              "\n",
              "    .dataframe tbody tr th {\n",
              "        vertical-align: top;\n",
              "    }\n",
              "\n",
              "    .dataframe thead th {\n",
              "        text-align: right;\n",
              "    }\n",
              "</style>\n",
              "<table border=\"1\" class=\"dataframe\">\n",
              "  <thead>\n",
              "    <tr style=\"text-align: right;\">\n",
              "      <th></th>\n",
              "      <th>state</th>\n",
              "      <th>Score</th>\n",
              "    </tr>\n",
              "  </thead>\n",
              "  <tbody>\n",
              "    <tr>\n",
              "      <th>0</th>\n",
              "      <td>ToHE</td>\n",
              "      <td>0</td>\n",
              "    </tr>\n",
              "    <tr>\n",
              "      <th>1</th>\n",
              "      <td>DicHE</td>\n",
              "      <td>1</td>\n",
              "    </tr>\n",
              "    <tr>\n",
              "      <th>2</th>\n",
              "      <td>HarrHE</td>\n",
              "      <td>2</td>\n",
              "    </tr>\n",
              "  </tbody>\n",
              "</table>\n",
              "</div>"
            ],
            "text/plain": [
              "    state  Score\n",
              "0    ToHE      0\n",
              "1   DicHE      1\n",
              "2  HarrHE      2"
            ]
          },
          "metadata": {
            "tags": []
          },
          "execution_count": 10
        }
      ]
    },
    {
      "cell_type": "markdown",
      "metadata": {
        "id": "2oSgdeqCbyp_",
        "colab_type": "text"
      },
      "source": [
        "Repeat or replicate the rows of dataframe in pandas python:"
      ]
    },
    {
      "cell_type": "code",
      "metadata": {
        "id": "O4za7Pm6XugU",
        "colab_type": "code",
        "outputId": "0c7ffcbb-c5ff-4d63-e961-51a4fd1c1f62",
        "colab": {
          "base_uri": "https://localhost:8080/",
          "height": 194
        }
      },
      "source": [
        "df_repeat=pd.concat([df3]*3,ignore_index=True)\n",
        "print(df_repeat)"
      ],
      "execution_count": 0,
      "outputs": [
        {
          "output_type": "stream",
          "text": [
            "   state  Score\n",
            "0    Tom      0\n",
            "1   Dick      1\n",
            "2  Harry      2\n",
            "3    Tom      0\n",
            "4   Dick      1\n",
            "5  Harry      2\n",
            "6    Tom      0\n",
            "7   Dick      1\n",
            "8  Harry      2\n"
          ],
          "name": "stdout"
        }
      ]
    },
    {
      "cell_type": "markdown",
      "metadata": {
        "id": "18BbhfhFeIAW",
        "colab_type": "text"
      },
      "source": [
        "6-10\n",
        "\n",
        "Reverse the rows of the dataframe in pandas python"
      ]
    },
    {
      "cell_type": "code",
      "metadata": {
        "id": "5HiYXCw7Xua_",
        "colab_type": "code",
        "outputId": "8faf80f7-8a75-4754-f12b-42bbe4089d84",
        "colab": {
          "base_uri": "https://localhost:8080/",
          "height": 137
        }
      },
      "source": [
        "df3.iloc[::-1]"
      ],
      "execution_count": 0,
      "outputs": [
        {
          "output_type": "execute_result",
          "data": {
            "text/html": [
              "<div>\n",
              "<style scoped>\n",
              "    .dataframe tbody tr th:only-of-type {\n",
              "        vertical-align: middle;\n",
              "    }\n",
              "\n",
              "    .dataframe tbody tr th {\n",
              "        vertical-align: top;\n",
              "    }\n",
              "\n",
              "    .dataframe thead th {\n",
              "        text-align: right;\n",
              "    }\n",
              "</style>\n",
              "<table border=\"1\" class=\"dataframe\">\n",
              "  <thead>\n",
              "    <tr style=\"text-align: right;\">\n",
              "      <th></th>\n",
              "      <th>state</th>\n",
              "      <th>Score</th>\n",
              "    </tr>\n",
              "  </thead>\n",
              "  <tbody>\n",
              "    <tr>\n",
              "      <th>2</th>\n",
              "      <td>Harry</td>\n",
              "      <td>2</td>\n",
              "    </tr>\n",
              "    <tr>\n",
              "      <th>1</th>\n",
              "      <td>Dick</td>\n",
              "      <td>1</td>\n",
              "    </tr>\n",
              "    <tr>\n",
              "      <th>0</th>\n",
              "      <td>Tom</td>\n",
              "      <td>0</td>\n",
              "    </tr>\n",
              "  </tbody>\n",
              "</table>\n",
              "</div>"
            ],
            "text/plain": [
              "   state  Score\n",
              "2  Harry      2\n",
              "1   Dick      1\n",
              "0    Tom      0"
            ]
          },
          "metadata": {
            "tags": []
          },
          "execution_count": 12
        }
      ]
    },
    {
      "cell_type": "markdown",
      "metadata": {
        "id": "gkFp0L-8fYnd",
        "colab_type": "text"
      },
      "source": [
        "Reverse the column of the dataframe in pandas python"
      ]
    },
    {
      "cell_type": "code",
      "metadata": {
        "id": "BgSpUblWfjef",
        "colab_type": "code",
        "outputId": "de3d64bd-b00c-4686-ab68-cacbc7e811bf",
        "colab": {
          "base_uri": "https://localhost:8080/",
          "height": 137
        }
      },
      "source": [
        "df3[df3.columns[::-1]]"
      ],
      "execution_count": 0,
      "outputs": [
        {
          "output_type": "execute_result",
          "data": {
            "text/html": [
              "<div>\n",
              "<style scoped>\n",
              "    .dataframe tbody tr th:only-of-type {\n",
              "        vertical-align: middle;\n",
              "    }\n",
              "\n",
              "    .dataframe tbody tr th {\n",
              "        vertical-align: top;\n",
              "    }\n",
              "\n",
              "    .dataframe thead th {\n",
              "        text-align: right;\n",
              "    }\n",
              "</style>\n",
              "<table border=\"1\" class=\"dataframe\">\n",
              "  <thead>\n",
              "    <tr style=\"text-align: right;\">\n",
              "      <th></th>\n",
              "      <th>Score</th>\n",
              "      <th>state</th>\n",
              "    </tr>\n",
              "  </thead>\n",
              "  <tbody>\n",
              "    <tr>\n",
              "      <th>0</th>\n",
              "      <td>0</td>\n",
              "      <td>Tom</td>\n",
              "    </tr>\n",
              "    <tr>\n",
              "      <th>1</th>\n",
              "      <td>1</td>\n",
              "      <td>Dick</td>\n",
              "    </tr>\n",
              "    <tr>\n",
              "      <th>2</th>\n",
              "      <td>2</td>\n",
              "      <td>Harry</td>\n",
              "    </tr>\n",
              "  </tbody>\n",
              "</table>\n",
              "</div>"
            ],
            "text/plain": [
              "   Score  state\n",
              "0      0    Tom\n",
              "1      1   Dick\n",
              "2      2  Harry"
            ]
          },
          "metadata": {
            "tags": []
          },
          "execution_count": 14
        }
      ]
    },
    {
      "cell_type": "markdown",
      "metadata": {
        "id": "idXvhZRdfgzo",
        "colab_type": "text"
      },
      "source": [
        "9 - Square of the column in pandas python"
      ]
    },
    {
      "cell_type": "code",
      "metadata": {
        "id": "bbVUYyZ4edcF",
        "colab_type": "code",
        "outputId": "a2211f9a-286a-462e-f6db-c53867e660eb",
        "colab": {
          "base_uri": "https://localhost:8080/",
          "height": 87
        }
      },
      "source": [
        "df3['score_value'] = df3['Score']**2\n",
        "print(df3)"
      ],
      "execution_count": 0,
      "outputs": [
        {
          "output_type": "stream",
          "text": [
            "   state  Score  score_value\n",
            "0    Tom      0            0\n",
            "1   Dick      1            1\n",
            "2  Harry      2            4\n"
          ],
          "name": "stdout"
        }
      ]
    },
    {
      "cell_type": "markdown",
      "metadata": {
        "id": "NfUI74Jteei4",
        "colab_type": "text"
      },
      "source": [
        "10 - Sqroot"
      ]
    },
    {
      "cell_type": "code",
      "metadata": {
        "id": "w2bwqLSlefgn",
        "colab_type": "code",
        "outputId": "ba8d2d78-a86e-45e3-a361-b82c152b68c0",
        "colab": {
          "base_uri": "https://localhost:8080/",
          "height": 87
        }
      },
      "source": [
        "df3['score_value_root'] = df3['Score']**1/2\n",
        "print(df3)"
      ],
      "execution_count": 0,
      "outputs": [
        {
          "output_type": "stream",
          "text": [
            "   state  Score  score_value  score_value_root\n",
            "0    Tom      0            0               0.0\n",
            "1   Dick      1            1               0.5\n",
            "2  Harry      2            4               1.0\n"
          ],
          "name": "stdout"
        }
      ]
    },
    {
      "cell_type": "markdown",
      "metadata": {
        "id": "lGwkxuyjg1d0",
        "colab_type": "text"
      },
      "source": [
        "11 - Logical and operation of column in pandas python"
      ]
    },
    {
      "cell_type": "code",
      "metadata": {
        "id": "m2O98V72gKcC",
        "colab_type": "code",
        "outputId": "0951e854-025a-439d-e1b1-5f390dccedb1",
        "colab": {
          "base_uri": "https://localhost:8080/",
          "height": 123
        }
      },
      "source": [
        "#import pandas as pd\n",
        "#import numpy as np\n",
        " \n",
        "df4 = {\n",
        "    'State':['Arizona AZ','Georgia GG','Newyork NY','Indiana IN','Florida FL'],\n",
        "   'Score1':[4,47,55,74,41],\n",
        "   'Score2':[5,67,54,56,12]}\n",
        " \n",
        "df4 = pd.DataFrame(df4,columns=['State','Score1','Score2'])\n",
        "print(df4)"
      ],
      "execution_count": 0,
      "outputs": [
        {
          "output_type": "stream",
          "text": [
            "        State  Score1  Score2\n",
            "0  Arizona AZ       4       5\n",
            "1  Georgia GG      47      67\n",
            "2  Newyork NY      55      54\n",
            "3  Indiana IN      74      56\n",
            "4  Florida FL      41      12\n"
          ],
          "name": "stdout"
        }
      ]
    },
    {
      "cell_type": "code",
      "metadata": {
        "id": "U1AXWAXVgKly",
        "colab_type": "code",
        "outputId": "60ba1702-fb0c-4637-adca-9e81a5ab0d09",
        "colab": {
          "base_uri": "https://localhost:8080/",
          "height": 123
        }
      },
      "source": [
        "df4['Pass_Status'] = np.logical_and(df4['Score1'] > 40,df4['Score2'] > 40)\n",
        "print(df4)"
      ],
      "execution_count": 0,
      "outputs": [
        {
          "output_type": "stream",
          "text": [
            "        State  Score1  Score2  Pass_Status\n",
            "0  Arizona AZ       4       5        False\n",
            "1  Georgia GG      47      67         True\n",
            "2  Newyork NY      55      54         True\n",
            "3  Indiana IN      74      56         True\n",
            "4  Florida FL      41      12        False\n"
          ],
          "name": "stdout"
        }
      ]
    },
    {
      "cell_type": "markdown",
      "metadata": {
        "id": "9qxvErCmhyvK",
        "colab_type": "text"
      },
      "source": [
        ""
      ]
    },
    {
      "cell_type": "code",
      "metadata": {
        "id": "NLXyH7m7gKqu",
        "colab_type": "code",
        "outputId": "4bc4750b-5b28-4df7-88ff-f0feee2fb3fe",
        "colab": {
          "base_uri": "https://localhost:8080/",
          "height": 123
        }
      },
      "source": [
        "df4['Pass_Status_or'] = np.logical_or(df4['Score1'] > 40,df4['Score2'] > 40)\n",
        "print(df4)"
      ],
      "execution_count": 0,
      "outputs": [
        {
          "output_type": "stream",
          "text": [
            "        State  Score1  Score2  Pass_Status  Pass_Status_or\n",
            "0  Arizona AZ       4       5        False           False\n",
            "1  Georgia GG      47      67         True            True\n",
            "2  Newyork NY      55      54         True            True\n",
            "3  Indiana IN      74      56         True            True\n",
            "4  Florida FL      41      12        False            True\n"
          ],
          "name": "stdout"
        }
      ]
    },
    {
      "cell_type": "markdown",
      "metadata": {
        "id": "QzPORd5nnGx-",
        "colab_type": "text"
      },
      "source": [
        "13 - Cube root"
      ]
    },
    {
      "cell_type": "code",
      "metadata": {
        "id": "ysZuIu2vgKk4",
        "colab_type": "code",
        "outputId": "83a69368-3857-4e50-d1a6-1e46ce2df65d",
        "colab": {
          "base_uri": "https://localhost:8080/",
          "height": 123
        }
      },
      "source": [
        "df4['Score_cuberoot']=df4['Score2']**1/3\n",
        "print(df4)"
      ],
      "execution_count": 0,
      "outputs": [
        {
          "output_type": "stream",
          "text": [
            "        State  Score1  Score2  Pass_Status  Pass_Status_or  Score_cuberoot\n",
            "0  Arizona AZ       4       5        False           False        1.666667\n",
            "1  Georgia GG      47      67         True            True       22.333333\n",
            "2  Newyork NY      55      54         True            True       18.000000\n",
            "3  Indiana IN      74      56         True            True       18.666667\n",
            "4  Florida FL      41      12        False            True        4.000000\n"
          ],
          "name": "stdout"
        }
      ]
    },
    {
      "cell_type": "markdown",
      "metadata": {
        "id": "FOodb3tLpXp1",
        "colab_type": "text"
      },
      "source": [
        "Reorder"
      ]
    },
    {
      "cell_type": "code",
      "metadata": {
        "id": "avt9Wuv4nny2",
        "colab_type": "code",
        "outputId": "2900e431-5fe3-49ec-87c1-7b25c7b668d1",
        "colab": {
          "base_uri": "https://localhost:8080/",
          "height": 123
        }
      },
      "source": [
        "df5=df4.reindex(columns=('Score2','Score1','Pass_Status_or','Pass_Status'))\n",
        "print(df5)"
      ],
      "execution_count": 0,
      "outputs": [
        {
          "output_type": "stream",
          "text": [
            "   Score2  Score1  Pass_Status_or  Pass_Status\n",
            "0       5       4           False        False\n",
            "1      67      47            True         True\n",
            "2      54      55            True         True\n",
            "3      56      74            True         True\n",
            "4      12      41            True        False\n"
          ],
          "name": "stdout"
        }
      ]
    },
    {
      "cell_type": "code",
      "metadata": {
        "id": "xFvBxTVLpGho",
        "colab_type": "code",
        "outputId": "31e1da1d-2b46-47f1-c0f5-e4e1249d084a",
        "colab": {
          "base_uri": "https://localhost:8080/",
          "height": 123
        }
      },
      "source": [
        "df5= df4.reindex([2,1,0,3,4])\n",
        "print(df5)"
      ],
      "execution_count": 0,
      "outputs": [
        {
          "output_type": "stream",
          "text": [
            "        State  Score1  Score2  Pass_Status  Pass_Status_or  Score_cuberoot\n",
            "2  Newyork NY      55      54         True            True       18.000000\n",
            "1  Georgia GG      47      67         True            True       22.333333\n",
            "0  Arizona AZ       4       5        False           False        1.666667\n",
            "3  Indiana IN      74      56         True            True       18.666667\n",
            "4  Florida FL      41      12        False            True        4.000000\n"
          ],
          "name": "stdout"
        }
      ]
    },
    {
      "cell_type": "markdown",
      "metadata": {
        "id": "zpdpBISEpU3r",
        "colab_type": "text"
      },
      "source": [
        "general functions"
      ]
    },
    {
      "cell_type": "code",
      "metadata": {
        "id": "MeOBjMB8pTGx",
        "colab_type": "code",
        "colab": {}
      },
      "source": [
        "#pd.datetime(today or now)//datetime\n",
        "\n",
        "#df['state_new']='USA-'+ df['state'].df.str() //concat\n",
        "\n",
        "#df1['is_equal'] =( df1['State'].str.lower().str.replace('s/+',\"\") == df1['State_1'].str.lower().str.replace('s/+',\"\"))//string comp check\n",
        "\n",
        "#df1.sort_values('State',inplace=True)//Sort state column\n",
        "\n",
        "#df1.groupby(['State'])['Sales'].sum()\n",
        "#eg gwalior - 5 if present table 5 times with sales 1 , total becomes 5.\n",
        "#df1.groupby(['State','Name'])['Sales'].sum()\n",
        "#mean, count, maximum,minimum could be applied to grpby\n",
        "\n",
        "#left pad\n",
        "#right pad\n",
        "\n",
        "\n",
        "#df.shape()\n",
        "#df.size()\n",
        "\n",
        "#df.dropna()\n",
        "\n",
        "\n",
        "#handling missing values.\n",
        "#df1.fillna(0)\n",
        "#df1.dropna()"
      ],
      "execution_count": 0,
      "outputs": []
    },
    {
      "cell_type": "code",
      "metadata": {
        "id": "PSt8jTwHtMoZ",
        "colab_type": "code",
        "colab": {}
      },
      "source": [
        ""
      ],
      "execution_count": 0,
      "outputs": []
    },
    {
      "cell_type": "code",
      "metadata": {
        "id": "hSGLXhFytM1W",
        "colab_type": "code",
        "colab": {}
      },
      "source": [
        ""
      ],
      "execution_count": 0,
      "outputs": []
    },
    {
      "cell_type": "code",
      "metadata": {
        "id": "EoB_MqgOtM6S",
        "colab_type": "code",
        "colab": {}
      },
      "source": [
        ""
      ],
      "execution_count": 0,
      "outputs": []
    },
    {
      "cell_type": "code",
      "metadata": {
        "id": "xNYllCpMtNCK",
        "colab_type": "code",
        "colab": {}
      },
      "source": [
        ""
      ],
      "execution_count": 0,
      "outputs": []
    },
    {
      "cell_type": "code",
      "metadata": {
        "id": "9EzUqRQytM4Z",
        "colab_type": "code",
        "colab": {}
      },
      "source": [
        ""
      ],
      "execution_count": 0,
      "outputs": []
    },
    {
      "cell_type": "code",
      "metadata": {
        "id": "Um2BZLYOtMzO",
        "colab_type": "code",
        "colab": {}
      },
      "source": [
        ""
      ],
      "execution_count": 0,
      "outputs": []
    }
  ]
}