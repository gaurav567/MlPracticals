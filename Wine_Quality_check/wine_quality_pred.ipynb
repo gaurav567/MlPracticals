{
  "nbformat": 4,
  "nbformat_minor": 0,
  "metadata": {
    "colab": {
      "name": "wine_quality.ipynb",
      "version": "0.3.2",
      "provenance": [],
      "collapsed_sections": []
    },
    "kernelspec": {
      "name": "python3",
      "display_name": "Python 3"
    }
  },
  "cells": [
    {
      "cell_type": "code",
      "metadata": {
        "id": "EYusiYyxpiux",
        "colab_type": "code",
        "colab": {}
      },
      "source": [
        "import numpy as np\n",
        "import pandas as pd\n",
        "from pandas.plotting import scatter_matrix\n",
        "import matplotlib.pyplot as plt\n",
        "from sklearn import model_selection\n",
        "from sklearn.metrics import classification_report\n",
        "from sklearn.metrics import confusion_matrix\n",
        "from sklearn.metrics import accuracy_score\n",
        "from sklearn.linear_model import LogisticRegression\n",
        "from sklearn.tree import DecisionTreeClassifier\n",
        "from sklearn.neighbors import KNeighborsClassifier\n",
        "from sklearn.discriminant_analysis import LinearDiscriminantAnalysis\n",
        "from sklearn.naive_bayes import GaussianNB\n",
        "from sklearn import preprocessing\n",
        "from sklearn.svm import SVC"
      ],
      "execution_count": 0,
      "outputs": []
    },
    {
      "cell_type": "code",
      "metadata": {
        "id": "JLzLxv90Scu4",
        "colab_type": "code",
        "colab": {}
      },
      "source": [
        "dataset_url = 'http://mlr.cs.umass.edu/ml/machine-learning-databases/wine-quality/winequality-red.csv'\n",
        "data = pd.read_csv(dataset_url)"
      ],
      "execution_count": 0,
      "outputs": []
    },
    {
      "cell_type": "code",
      "metadata": {
        "id": "DnqtGhqlSc5h",
        "colab_type": "code",
        "outputId": "0627092d-6d8a-44b9-d67c-0c56065ec181",
        "colab": {
          "base_uri": "https://localhost:8080/",
          "height": 197
        }
      },
      "source": [
        "data.head()"
      ],
      "execution_count": 0,
      "outputs": [
        {
          "output_type": "execute_result",
          "data": {
            "text/html": [
              "<div>\n",
              "<style scoped>\n",
              "    .dataframe tbody tr th:only-of-type {\n",
              "        vertical-align: middle;\n",
              "    }\n",
              "\n",
              "    .dataframe tbody tr th {\n",
              "        vertical-align: top;\n",
              "    }\n",
              "\n",
              "    .dataframe thead th {\n",
              "        text-align: right;\n",
              "    }\n",
              "</style>\n",
              "<table border=\"1\" class=\"dataframe\">\n",
              "  <thead>\n",
              "    <tr style=\"text-align: right;\">\n",
              "      <th></th>\n",
              "      <th>fixed acidity;\"volatile acidity\";\"citric acid\";\"residual sugar\";\"chlorides\";\"free sulfur dioxide\";\"total sulfur dioxide\";\"density\";\"pH\";\"sulphates\";\"alcohol\";\"quality\"</th>\n",
              "    </tr>\n",
              "  </thead>\n",
              "  <tbody>\n",
              "    <tr>\n",
              "      <th>0</th>\n",
              "      <td>7.4;0.7;0;1.9;0.076;11;34;0.9978;3.51;0.56;9.4;5</td>\n",
              "    </tr>\n",
              "    <tr>\n",
              "      <th>1</th>\n",
              "      <td>7.8;0.88;0;2.6;0.098;25;67;0.9968;3.2;0.68;9.8;5</td>\n",
              "    </tr>\n",
              "    <tr>\n",
              "      <th>2</th>\n",
              "      <td>7.8;0.76;0.04;2.3;0.092;15;54;0.997;3.26;0.65;...</td>\n",
              "    </tr>\n",
              "    <tr>\n",
              "      <th>3</th>\n",
              "      <td>11.2;0.28;0.56;1.9;0.075;17;60;0.998;3.16;0.58...</td>\n",
              "    </tr>\n",
              "    <tr>\n",
              "      <th>4</th>\n",
              "      <td>7.4;0.7;0;1.9;0.076;11;34;0.9978;3.51;0.56;9.4;5</td>\n",
              "    </tr>\n",
              "  </tbody>\n",
              "</table>\n",
              "</div>"
            ],
            "text/plain": [
              "  fixed acidity;\"volatile acidity\";\"citric acid\";\"residual sugar\";\"chlorides\";\"free sulfur dioxide\";\"total sulfur dioxide\";\"density\";\"pH\";\"sulphates\";\"alcohol\";\"quality\"\n",
              "0   7.4;0.7;0;1.9;0.076;11;34;0.9978;3.51;0.56;9.4;5                                                                                                                     \n",
              "1   7.8;0.88;0;2.6;0.098;25;67;0.9968;3.2;0.68;9.8;5                                                                                                                     \n",
              "2  7.8;0.76;0.04;2.3;0.092;15;54;0.997;3.26;0.65;...                                                                                                                     \n",
              "3  11.2;0.28;0.56;1.9;0.075;17;60;0.998;3.16;0.58...                                                                                                                     \n",
              "4   7.4;0.7;0;1.9;0.076;11;34;0.9978;3.51;0.56;9.4;5                                                                                                                     "
            ]
          },
          "metadata": {
            "tags": []
          },
          "execution_count": 106
        }
      ]
    },
    {
      "cell_type": "code",
      "metadata": {
        "id": "K85tR9tdSc_U",
        "colab_type": "code",
        "colab": {}
      },
      "source": [
        "dataok = pd.read_csv(dataset_url,sep = ';')"
      ],
      "execution_count": 0,
      "outputs": []
    },
    {
      "cell_type": "code",
      "metadata": {
        "id": "UJfUEPfmSdDy",
        "colab_type": "code",
        "outputId": "d0517ba7-d1ee-43be-b299-b7c80afd784a",
        "colab": {
          "base_uri": "https://localhost:8080/",
          "height": 1000
        }
      },
      "source": [
        "print (dataok)"
      ],
      "execution_count": 0,
      "outputs": [
        {
          "output_type": "stream",
          "text": [
            "      fixed acidity  volatile acidity  citric acid  ...  sulphates  alcohol  quality\n",
            "0               7.4             0.700         0.00  ...       0.56      9.4        5\n",
            "1               7.8             0.880         0.00  ...       0.68      9.8        5\n",
            "2               7.8             0.760         0.04  ...       0.65      9.8        5\n",
            "3              11.2             0.280         0.56  ...       0.58      9.8        6\n",
            "4               7.4             0.700         0.00  ...       0.56      9.4        5\n",
            "5               7.4             0.660         0.00  ...       0.56      9.4        5\n",
            "6               7.9             0.600         0.06  ...       0.46      9.4        5\n",
            "7               7.3             0.650         0.00  ...       0.47     10.0        7\n",
            "8               7.8             0.580         0.02  ...       0.57      9.5        7\n",
            "9               7.5             0.500         0.36  ...       0.80     10.5        5\n",
            "10              6.7             0.580         0.08  ...       0.54      9.2        5\n",
            "11              7.5             0.500         0.36  ...       0.80     10.5        5\n",
            "12              5.6             0.615         0.00  ...       0.52      9.9        5\n",
            "13              7.8             0.610         0.29  ...       1.56      9.1        5\n",
            "14              8.9             0.620         0.18  ...       0.88      9.2        5\n",
            "15              8.9             0.620         0.19  ...       0.93      9.2        5\n",
            "16              8.5             0.280         0.56  ...       0.75     10.5        7\n",
            "17              8.1             0.560         0.28  ...       1.28      9.3        5\n",
            "18              7.4             0.590         0.08  ...       0.50      9.0        4\n",
            "19              7.9             0.320         0.51  ...       1.08      9.2        6\n",
            "20              8.9             0.220         0.48  ...       0.53      9.4        6\n",
            "21              7.6             0.390         0.31  ...       0.65      9.7        5\n",
            "22              7.9             0.430         0.21  ...       0.91      9.5        5\n",
            "23              8.5             0.490         0.11  ...       0.53      9.4        5\n",
            "24              6.9             0.400         0.14  ...       0.63      9.7        6\n",
            "25              6.3             0.390         0.16  ...       0.56      9.3        5\n",
            "26              7.6             0.410         0.24  ...       0.59      9.5        5\n",
            "27              7.9             0.430         0.21  ...       0.91      9.5        5\n",
            "28              7.1             0.710         0.00  ...       0.55      9.4        5\n",
            "29              7.8             0.645         0.00  ...       0.59      9.8        6\n",
            "...             ...               ...          ...  ...        ...      ...      ...\n",
            "1569            6.2             0.510         0.14  ...       0.57     11.5        6\n",
            "1570            6.4             0.360         0.53  ...       0.93     12.4        6\n",
            "1571            6.4             0.380         0.14  ...       0.65     11.1        6\n",
            "1572            7.3             0.690         0.32  ...       0.51      9.5        5\n",
            "1573            6.0             0.580         0.20  ...       0.67     12.5        6\n",
            "1574            5.6             0.310         0.78  ...       0.48     10.5        6\n",
            "1575            7.5             0.520         0.40  ...       0.64     11.8        6\n",
            "1576            8.0             0.300         0.63  ...       0.78     10.8        6\n",
            "1577            6.2             0.700         0.15  ...       0.60     11.9        6\n",
            "1578            6.8             0.670         0.15  ...       0.67     11.3        6\n",
            "1579            6.2             0.560         0.09  ...       0.60     11.3        5\n",
            "1580            7.4             0.350         0.33  ...       0.60     11.9        6\n",
            "1581            6.2             0.560         0.09  ...       0.60     11.3        5\n",
            "1582            6.1             0.715         0.10  ...       0.50     11.9        5\n",
            "1583            6.2             0.460         0.29  ...       0.62      9.8        5\n",
            "1584            6.7             0.320         0.44  ...       0.80     11.6        7\n",
            "1585            7.2             0.390         0.44  ...       0.84     11.5        6\n",
            "1586            7.5             0.310         0.41  ...       0.85     11.4        6\n",
            "1587            5.8             0.610         0.11  ...       0.66     10.9        6\n",
            "1588            7.2             0.660         0.33  ...       0.78     12.8        6\n",
            "1589            6.6             0.725         0.20  ...       0.54      9.2        5\n",
            "1590            6.3             0.550         0.15  ...       0.82     11.6        6\n",
            "1591            5.4             0.740         0.09  ...       0.56     11.6        6\n",
            "1592            6.3             0.510         0.13  ...       0.75     11.0        6\n",
            "1593            6.8             0.620         0.08  ...       0.82      9.5        6\n",
            "1594            6.2             0.600         0.08  ...       0.58     10.5        5\n",
            "1595            5.9             0.550         0.10  ...       0.76     11.2        6\n",
            "1596            6.3             0.510         0.13  ...       0.75     11.0        6\n",
            "1597            5.9             0.645         0.12  ...       0.71     10.2        5\n",
            "1598            6.0             0.310         0.47  ...       0.66     11.0        6\n",
            "\n",
            "[1599 rows x 12 columns]\n"
          ],
          "name": "stdout"
        }
      ]
    },
    {
      "cell_type": "code",
      "metadata": {
        "id": "OJmzsdlPSdJU",
        "colab_type": "code",
        "colab": {}
      },
      "source": [
        "array=dataok.values\n",
        "X=array[:,1:11]\n",
        "Y=array[:,11]\n",
        "validation_size=0.20\n",
        "seed=7\n",
        "X_train,X_validation,Y_train,Y_validation = model_selection.train_test_split(X,Y,test_size=validation_size, random_state=seed)\n"
      ],
      "execution_count": 0,
      "outputs": []
    },
    {
      "cell_type": "markdown",
      "metadata": {
        "id": "iaoHJQqT5bf_",
        "colab_type": "text"
      },
      "source": [
        "Analysis, preprocessing optional"
      ]
    },
    {
      "cell_type": "code",
      "metadata": {
        "id": "x2JuBwoC5Zeb",
        "colab_type": "code",
        "outputId": "0e97356f-056b-4fd4-add4-29afd3e6f6ff",
        "colab": {
          "base_uri": "https://localhost:8080/",
          "height": 247
        }
      },
      "source": [
        "X_train_scaled = preprocessing.scale(X_train)     #optional testing block\n",
        "print(X_train_scaled)"
      ],
      "execution_count": 0,
      "outputs": [
        {
          "output_type": "stream",
          "text": [
            "[[-0.39496664  1.87019105 -0.38398375 ... -2.06387857  1.22458693\n",
            "  -0.18904093]\n",
            " [ 1.58108048 -0.09306925  0.59176493 ... -0.78374439 -1.37734384\n",
            "  -1.13683921]\n",
            " [ 1.32701728 -1.28135838 -0.17489475 ...  1.64851056  0.70420078\n",
            "  -0.47338041]\n",
            " ...\n",
            " [ 1.66576821 -0.144734   -0.31428742 ...  0.36837638  0.64638009\n",
            "   0.28485822]\n",
            " [-1.18538548  1.30187886 -0.52337642 ... -0.20768401  0.64638009\n",
            "   1.04309685]\n",
            " [-0.16913268 -1.17802889 -0.73246542 ...  0.24036296  0.70420078\n",
            "  -0.85249973]]\n"
          ],
          "name": "stdout"
        }
      ]
    },
    {
      "cell_type": "code",
      "metadata": {
        "id": "nRyenhBi5_kE",
        "colab_type": "code",
        "colab": {}
      },
      "source": [
        "\n",
        "y = dataok.quality                                                                   \n",
        "X1 = dataok.drop('quality', axis=1)\n",
        "X1_train, X1_test, y_train, y_test = model_selection.train_test_split(X1, y, \n",
        "                                                    test_size=0.2, \n",
        "                                                    random_state=123, \n",
        "                                                    stratify=y)                       "
      ],
      "execution_count": 0,
      "outputs": []
    },
    {
      "cell_type": "code",
      "metadata": {
        "id": "hkj_g1wx6InZ",
        "colab_type": "code",
        "outputId": "6634f754-5a12-4921-8db5-49f73c2afbfb",
        "colab": {
          "base_uri": "https://localhost:8080/",
          "height": 247
        }
      },
      "source": [
        "X1_train_scaled = preprocessing.scale(X1_train)\n",
        "print(X1_train_scaled)"
      ],
      "execution_count": 0,
      "outputs": [
        {
          "output_type": "stream",
          "text": [
            "[[ 0.51358886  2.19680282 -0.164433   ...  1.08415147 -0.69866131\n",
            "  -0.58608178]\n",
            " [-1.73698885 -0.31792985 -0.82867679 ...  1.46964764  1.2491516\n",
            "   2.97009781]\n",
            " [-0.35201795  0.46443143 -0.47100705 ... -0.13658641 -0.35492962\n",
            "  -0.20843439]\n",
            " ...\n",
            " [-0.98679628  1.10708533 -0.93086814 ...  0.24890976 -0.98510439\n",
            "   0.35803669]\n",
            " [-0.69826067  0.46443143 -1.28853787 ...  1.08415147 -0.35492962\n",
            "  -0.68049363]\n",
            " [ 3.1104093  -0.62528606  2.08377675 ... -1.61432173  0.79084268\n",
            "  -0.39725809]]\n"
          ],
          "name": "stdout"
        }
      ]
    },
    {
      "cell_type": "code",
      "metadata": {
        "id": "APtUWlRk7Hg2",
        "colab_type": "code",
        "outputId": "b841655a-f929-43d3-b8f3-ba9ae622a609",
        "colab": {
          "base_uri": "https://localhost:8080/",
          "height": 87
        }
      },
      "source": [
        "print (X1_train_scaled.mean(axis=0))\n",
        "print (X1_train_scaled.std(axis=0))"
      ],
      "execution_count": 0,
      "outputs": [
        {
          "output_type": "stream",
          "text": [
            "[ 1.16664562e-16 -3.05550043e-17 -8.47206937e-17 -2.22218213e-17\n",
            "  2.22218213e-17 -6.38877362e-17 -4.16659149e-18 -2.54439854e-15\n",
            " -8.70817622e-16 -4.08325966e-16 -1.17220107e-15]\n",
            "[1. 1. 1. 1. 1. 1. 1. 1. 1. 1. 1.]\n"
          ],
          "name": "stdout"
        }
      ]
    },
    {
      "cell_type": "markdown",
      "metadata": {
        "id": "3mPAdqMd9Aug",
        "colab_type": "text"
      },
      "source": [
        "Leave this above analysis and preprocessing"
      ]
    },
    {
      "cell_type": "markdown",
      "metadata": {
        "id": "OWb3Nd7lruIu",
        "colab_type": "text"
      },
      "source": [
        "Basic prediction through KNN"
      ]
    },
    {
      "cell_type": "code",
      "metadata": {
        "id": "ngQbPQ2fSdPV",
        "colab_type": "code",
        "colab": {}
      },
      "source": [
        "knn.fit(X_train,Y_train)\n",
        "pred = knn.predict(X_validation)\n",
        "acc= accuracy_score(Y_validation,pred)"
      ],
      "execution_count": 0,
      "outputs": []
    },
    {
      "cell_type": "code",
      "metadata": {
        "id": "XUtyv6dISdOZ",
        "colab_type": "code",
        "outputId": "0b1fd578-0517-4c85-9aed-eab7ea07dc0d",
        "colab": {
          "base_uri": "https://localhost:8080/",
          "height": 34
        }
      },
      "source": [
        "print(acc)"
      ],
      "execution_count": 0,
      "outputs": [
        {
          "output_type": "stream",
          "text": [
            "0.521875\n"
          ],
          "name": "stdout"
        }
      ]
    },
    {
      "cell_type": "code",
      "metadata": {
        "id": "7lT9RR0WSdIh",
        "colab_type": "code",
        "outputId": "ad3144ac-df7d-410c-d849-66b3760a2bc9",
        "colab": {
          "base_uri": "https://localhost:8080/",
          "height": 514
        }
      },
      "source": [
        "print(Y_validation)\n",
        "print(pred)"
      ],
      "execution_count": 0,
      "outputs": [
        {
          "output_type": "stream",
          "text": [
            "[6. 6. 6. 5. 6. 6. 6. 6. 6. 5. 7. 6. 6. 5. 5. 5. 6. 4. 5. 6. 5. 5. 6. 6.\n",
            " 5. 5. 6. 6. 6. 6. 5. 5. 6. 5. 6. 5. 7. 6. 7. 5. 5. 6. 7. 6. 5. 6. 6. 7.\n",
            " 6. 7. 6. 5. 6. 7. 5. 6. 6. 6. 5. 7. 5. 7. 6. 6. 5. 5. 5. 6. 6. 6. 7. 6.\n",
            " 6. 6. 5. 6. 6. 6. 5. 5. 5. 7. 5. 6. 6. 6. 5. 5. 7. 5. 6. 6. 5. 5. 5. 6.\n",
            " 6. 5. 6. 5. 5. 6. 5. 6. 6. 6. 6. 6. 6. 5. 6. 6. 6. 6. 5. 6. 6. 7. 6. 6.\n",
            " 5. 5. 6. 6. 6. 5. 5. 7. 6. 6. 7. 5. 6. 5. 6. 6. 7. 6. 6. 5. 5. 6. 6. 5.\n",
            " 6. 6. 5. 4. 5. 5. 5. 7. 6. 7. 6. 5. 5. 6. 5. 6. 5. 6. 6. 7. 6. 5. 6. 5.\n",
            " 5. 5. 5. 5. 6. 7. 6. 6. 5. 5. 5. 6. 6. 6. 6. 6. 5. 6. 6. 5. 6. 6. 5. 6.\n",
            " 5. 5. 5. 5. 4. 7. 7. 6. 5. 6. 6. 6. 7. 8. 6. 6. 7. 4. 6. 5. 5. 6. 6. 5.\n",
            " 5. 5. 5. 6. 6. 6. 5. 6. 6. 7. 5. 6. 5. 6. 6. 5. 5. 6. 6. 5. 6. 7. 6. 5.\n",
            " 5. 4. 5. 5. 6. 6. 6. 5. 5. 8. 7. 6. 6. 6. 4. 5. 5. 8. 5. 6. 5. 5. 7. 6.\n",
            " 5. 5. 4. 5. 5. 6. 7. 6. 6. 5. 5. 5. 6. 5. 7. 7. 6. 6. 5. 5. 7. 6. 6. 5.\n",
            " 7. 5. 5. 6. 5. 6. 5. 5. 6. 4. 5. 5. 5. 6. 7. 6. 5. 6. 5. 6. 4. 5. 6. 7.\n",
            " 5. 7. 5. 7. 8. 4. 5. 6.]\n",
            "[6. 5. 6. 5. 6. 6. 5. 6. 6. 5. 7. 6. 7. 6. 5. 5. 6. 5. 4. 6. 6. 5. 6. 6.\n",
            " 5. 7. 6. 5. 5. 6. 5. 5. 7. 5. 6. 5. 6. 5. 5. 5. 6. 6. 5. 6. 5. 5. 5. 6.\n",
            " 5. 7. 5. 6. 5. 6. 4. 6. 6. 7. 5. 6. 5. 7. 6. 5. 5. 5. 5. 6. 5. 7. 6. 5.\n",
            " 6. 7. 6. 5. 5. 6. 5. 5. 5. 5. 5. 6. 6. 5. 5. 4. 6. 6. 6. 6. 5. 5. 7. 5.\n",
            " 7. 5. 6. 6. 5. 5. 5. 6. 6. 5. 5. 5. 6. 5. 5. 5. 6. 6. 5. 5. 5. 5. 5. 6.\n",
            " 5. 5. 5. 5. 6. 5. 5. 6. 5. 6. 5. 5. 5. 5. 6. 7. 6. 5. 5. 5. 5. 5. 5. 5.\n",
            " 6. 6. 5. 5. 6. 5. 5. 6. 5. 6. 6. 6. 5. 5. 5. 6. 5. 6. 6. 5. 6. 5. 6. 6.\n",
            " 6. 5. 5. 5. 5. 6. 6. 5. 6. 6. 5. 6. 6. 6. 7. 5. 6. 6. 6. 5. 6. 5. 6. 6.\n",
            " 5. 6. 6. 5. 5. 5. 7. 6. 6. 7. 5. 5. 7. 7. 6. 5. 5. 6. 6. 5. 5. 5. 6. 5.\n",
            " 5. 6. 6. 6. 7. 5. 5. 6. 6. 7. 5. 6. 5. 6. 6. 5. 6. 5. 6. 5. 5. 7. 5. 6.\n",
            " 5. 5. 5. 5. 6. 5. 5. 5. 6. 5. 6. 5. 5. 5. 7. 7. 5. 6. 6. 5. 5. 5. 6. 6.\n",
            " 5. 5. 5. 4. 5. 5. 7. 5. 7. 7. 5. 5. 5. 6. 6. 5. 5. 6. 5. 5. 6. 6. 6. 5.\n",
            " 6. 5. 5. 6. 5. 7. 5. 6. 5. 5. 5. 5. 5. 6. 6. 5. 5. 5. 5. 6. 6. 5. 5. 5.\n",
            " 6. 5. 5. 5. 5. 5. 5. 7.]\n"
          ],
          "name": "stdout"
        }
      ]
    },
    {
      "cell_type": "code",
      "metadata": {
        "id": "W9JSGz_lSdC9",
        "colab_type": "code",
        "colab": {}
      },
      "source": [
        "plt.show(Y_validation,pred)"
      ],
      "execution_count": 0,
      "outputs": []
    },
    {
      "cell_type": "markdown",
      "metadata": {
        "id": "0jKo8EOrxiUq",
        "colab_type": "text"
      },
      "source": [
        "# ACTUAL STARTED  - Play with data to improve accuracy now"
      ]
    },
    {
      "cell_type": "code",
      "metadata": {
        "id": "MTx15CGOxguC",
        "colab_type": "code",
        "colab": {}
      },
      "source": [
        "#Key points\n",
        "#All of the features are numeric, which is convenient. However, they have some very different scales, so let's make a mental note to standardize the data later.S\n",
        "#As you can see, we'll set aside 20% of the data as a test set for evaluating our model. We also set an arbitrary \"random state\" (a.k.a. seed) so that we can reproduce our results.\n",
        "\n",
        "#Finally, it's good practice to stratify your sample by the target variable. This will ensure your training set looks similar to your test set, making your evaluation metrics more reliable.\n"
      ],
      "execution_count": 0,
      "outputs": []
    },
    {
      "cell_type": "markdown",
      "metadata": {
        "id": "iOEA33S6_8Jv",
        "colab_type": "text"
      },
      "source": [
        "Old way of scaling not used now"
      ]
    },
    {
      "cell_type": "code",
      "metadata": {
        "id": "QPvvJYRYxg4A",
        "colab_type": "code",
        "outputId": "cca0529b-cb40-41be-a78e-4595124f76ff",
        "colab": {
          "base_uri": "https://localhost:8080/",
          "height": 247
        }
      },
      "source": [
        "X_train_scaled = preprocessing.scale(X_train)\n",
        "print(X_train_scaled)"
      ],
      "execution_count": 0,
      "outputs": [
        {
          "output_type": "stream",
          "text": [
            "[[-0.39496664  1.87019105 -0.38398375 ... -2.06387857  1.22458693\n",
            "  -0.18904093]\n",
            " [ 1.58108048 -0.09306925  0.59176493 ... -0.78374439 -1.37734384\n",
            "  -1.13683921]\n",
            " [ 1.32701728 -1.28135838 -0.17489475 ...  1.64851056  0.70420078\n",
            "  -0.47338041]\n",
            " ...\n",
            " [ 1.66576821 -0.144734   -0.31428742 ...  0.36837638  0.64638009\n",
            "   0.28485822]\n",
            " [-1.18538548  1.30187886 -0.52337642 ... -0.20768401  0.64638009\n",
            "   1.04309685]\n",
            " [-0.16913268 -1.17802889 -0.73246542 ...  0.24036296  0.70420078\n",
            "  -0.85249973]]\n"
          ],
          "name": "stdout"
        }
      ]
    },
    {
      "cell_type": "code",
      "metadata": {
        "id": "evffs05Cxg5x",
        "colab_type": "code",
        "outputId": "826d62ad-8c6a-44f5-e50a-616bafb1ff4c",
        "colab": {
          "base_uri": "https://localhost:8080/",
          "height": 141
        }
      },
      "source": [
        "print(X_train)"
      ],
      "execution_count": 0,
      "outputs": [
        {
          "output_type": "stream",
          "text": [
            "[[ 0.46   0.63   2.    ...  2.99   0.87  10.2  ]\n",
            " [ 0.81   0.25   3.4   ...  3.19   0.42   9.2  ]\n",
            " [ 0.765  0.02   2.3   ...  3.57   0.78   9.9  ]\n",
            " ...\n",
            " [ 0.825  0.24   2.1   ...  3.37   0.77  10.7  ]\n",
            " [ 0.32   0.52   1.8   ...  3.28   0.77  11.5  ]\n",
            " [ 0.5    0.04   1.5   ...  3.35   0.78   9.5  ]]\n"
          ],
          "name": "stdout"
        }
      ]
    },
    {
      "cell_type": "code",
      "metadata": {
        "id": "fqZqjKvQ2-Eu",
        "colab_type": "code",
        "outputId": "07ec2b82-8beb-4fe9-a0e6-069fe446a918",
        "colab": {
          "base_uri": "https://localhost:8080/",
          "height": 87
        }
      },
      "source": [
        "print (X_train_scaled.mean(axis=0))\n",
        "print (X_train_scaled.std(axis=0))"
      ],
      "execution_count": 0,
      "outputs": [
        {
          "output_type": "stream",
          "text": [
            "[ 7.51681316e-15  8.56928984e-16 -3.81625059e-15  1.16688541e-14\n",
            " -6.81845337e-17 -9.55711923e-17  4.12973625e-13 -3.02100452e-14\n",
            " -2.22044605e-15  2.06141246e-14]\n",
            "[1. 1. 1. 1. 1. 1. 1. 1. 1. 1.]\n"
          ],
          "name": "stdout"
        }
      ]
    },
    {
      "cell_type": "markdown",
      "metadata": {
        "id": "HvmgWnjy_3Ox",
        "colab_type": "text"
      },
      "source": [
        "New way of scaling using Transformer Api"
      ]
    },
    {
      "cell_type": "code",
      "metadata": {
        "id": "wnrQVE_u3Wjz",
        "colab_type": "code",
        "outputId": "c15e251b-7ddb-4758-b02c-41f490882bb2",
        "colab": {
          "base_uri": "https://localhost:8080/",
          "height": 87
        }
      },
      "source": [
        "scaler = preprocessing.StandardScaler().fit(X_train)\n",
        "X_train_scaled = scaler.transform(X_train)\n",
        " \n",
        "print (X_train_scaled.mean(axis=0))\n",
        "print (X_train_scaled.std(axis=0))"
      ],
      "execution_count": 0,
      "outputs": [
        {
          "output_type": "stream",
          "text": [
            "[ 7.51681316e-15  8.56928984e-16 -3.81625059e-15  1.16688541e-14\n",
            " -6.81845337e-17 -9.55711923e-17  4.12973625e-13 -3.02100452e-14\n",
            " -2.22044605e-15  2.06141246e-14]\n",
            "[1. 1. 1. 1. 1. 1. 1. 1. 1. 1.]\n"
          ],
          "name": "stdout"
        }
      ]
    },
    {
      "cell_type": "code",
      "metadata": {
        "id": "ihJD_rUV_G_1",
        "colab_type": "code",
        "outputId": "dc64af77-477f-48f0-abb0-a1579a5428c3",
        "colab": {
          "base_uri": "https://localhost:8080/",
          "height": 87
        }
      },
      "source": [
        "X_validation_scaled = scaler.transform(X_validation)\n",
        " \n",
        "print (X_validation_scaled.mean(axis=0))\n",
        "\n",
        "print (X_validation_scaled.std(axis=0))\n"
      ],
      "execution_count": 0,
      "outputs": [
        {
          "output_type": "stream",
          "text": [
            "[-0.06027366  0.07645569 -0.04225391 -0.10611098 -0.07293408 -0.07556893\n",
            " -0.03307799 -0.04266671 -0.00175364  0.11144075]\n",
            "[1.05065254 1.02794784 0.90765927 0.59914469 0.91255711 0.94507444\n",
            " 1.00489138 0.93703482 0.89448764 1.04292767]\n"
          ],
          "name": "stdout"
        }
      ]
    },
    {
      "cell_type": "code",
      "metadata": {
        "id": "YctVnFbw_dN1",
        "colab_type": "code",
        "colab": {}
      },
      "source": [
        "from sklearn.ensemble import RandomForestRegressor\n",
        "from sklearn.pipeline import make_pipeline\n",
        "pipeline = make_pipeline(preprocessing.StandardScaler(), \n",
        "                         RandomForestRegressor(n_estimators=100))"
      ],
      "execution_count": 0,
      "outputs": []
    },
    {
      "cell_type": "markdown",
      "metadata": {
        "id": "QcK6SXQrT6h1",
        "colab_type": "text"
      },
      "source": [
        "Step - 6 Declare hyperparameters to tune."
      ]
    },
    {
      "cell_type": "code",
      "metadata": {
        "id": "v29NdL2B_dbA",
        "colab_type": "code",
        "outputId": "842bdb91-879d-4ab2-a67a-85afff56f442",
        "colab": {
          "base_uri": "https://localhost:8080/",
          "height": 267
        }
      },
      "source": [
        "print (pipeline.get_params())"
      ],
      "execution_count": 0,
      "outputs": [
        {
          "output_type": "stream",
          "text": [
            "{'memory': None, 'steps': [('standardscaler', StandardScaler(copy=True, with_mean=True, with_std=True)), ('randomforestregressor', RandomForestRegressor(bootstrap=True, criterion='mse', max_depth=None,\n",
            "                      max_features='auto', max_leaf_nodes=None,\n",
            "                      min_impurity_decrease=0.0, min_impurity_split=None,\n",
            "                      min_samples_leaf=1, min_samples_split=2,\n",
            "                      min_weight_fraction_leaf=0.0, n_estimators=100,\n",
            "                      n_jobs=None, oob_score=False, random_state=None,\n",
            "                      verbose=0, warm_start=False))], 'verbose': False, 'standardscaler': StandardScaler(copy=True, with_mean=True, with_std=True), 'randomforestregressor': RandomForestRegressor(bootstrap=True, criterion='mse', max_depth=None,\n",
            "                      max_features='auto', max_leaf_nodes=None,\n",
            "                      min_impurity_decrease=0.0, min_impurity_split=None,\n",
            "                      min_samples_leaf=1, min_samples_split=2,\n",
            "                      min_weight_fraction_leaf=0.0, n_estimators=100,\n",
            "                      n_jobs=None, oob_score=False, random_state=None,\n",
            "                      verbose=0, warm_start=False), 'standardscaler__copy': True, 'standardscaler__with_mean': True, 'standardscaler__with_std': True, 'randomforestregressor__bootstrap': True, 'randomforestregressor__criterion': 'mse', 'randomforestregressor__max_depth': None, 'randomforestregressor__max_features': 'auto', 'randomforestregressor__max_leaf_nodes': None, 'randomforestregressor__min_impurity_decrease': 0.0, 'randomforestregressor__min_impurity_split': None, 'randomforestregressor__min_samples_leaf': 1, 'randomforestregressor__min_samples_split': 2, 'randomforestregressor__min_weight_fraction_leaf': 0.0, 'randomforestregressor__n_estimators': 100, 'randomforestregressor__n_jobs': None, 'randomforestregressor__oob_score': False, 'randomforestregressor__random_state': None, 'randomforestregressor__verbose': 0, 'randomforestregressor__warm_start': False}\n"
          ],
          "name": "stdout"
        }
      ]
    },
    {
      "cell_type": "code",
      "metadata": {
        "id": "9EGCvOQDY2uq",
        "colab_type": "code",
        "colab": {}
      },
      "source": [
        "hyperparameters = { 'randomforestregressor__max_features' : ['auto', 'sqrt', 'log2'],\n",
        "                  'randomforestregressor__max_depth': [None, 5, 3, 1]}"
      ],
      "execution_count": 0,
      "outputs": []
    },
    {
      "cell_type": "markdown",
      "metadata": {
        "id": "oCQfWP2HZZLY",
        "colab_type": "text"
      },
      "source": [
        "Step-7 Tune model using a cross-validation pipeline.\n"
      ]
    },
    {
      "cell_type": "code",
      "metadata": {
        "id": "gDhb03i4Y255",
        "colab_type": "code",
        "outputId": "ee6cf1b6-0784-4ccc-b3f5-43a7dc65066b",
        "colab": {
          "base_uri": "https://localhost:8080/",
          "height": 532
        }
      },
      "source": [
        "from sklearn.model_selection import GridSearchCV\n",
        "clf = GridSearchCV(pipeline, hyperparameters, cv=10)\n",
        "\n",
        "# Fit and tune model\n",
        "\n",
        "clf.fit(X_train, Y_train)"
      ],
      "execution_count": 0,
      "outputs": [
        {
          "output_type": "execute_result",
          "data": {
            "text/plain": [
              "GridSearchCV(cv=10, error_score='raise-deprecating',\n",
              "             estimator=Pipeline(memory=None,\n",
              "                                steps=[('standardscaler',\n",
              "                                        StandardScaler(copy=True,\n",
              "                                                       with_mean=True,\n",
              "                                                       with_std=True)),\n",
              "                                       ('randomforestregressor',\n",
              "                                        RandomForestRegressor(bootstrap=True,\n",
              "                                                              criterion='mse',\n",
              "                                                              max_depth=None,\n",
              "                                                              max_features='auto',\n",
              "                                                              max_leaf_nodes=None,\n",
              "                                                              min_impurity_decrease=0.0,\n",
              "                                                              min_impurity_split=None,\n",
              "                                                              min_...\n",
              "                                                              min_weight_fraction_leaf=0.0,\n",
              "                                                              n_estimators=100,\n",
              "                                                              n_jobs=None,\n",
              "                                                              oob_score=False,\n",
              "                                                              random_state=None,\n",
              "                                                              verbose=0,\n",
              "                                                              warm_start=False))],\n",
              "                                verbose=False),\n",
              "             iid='warn', n_jobs=None,\n",
              "             param_grid={'randomforestregressor__max_depth': [None, 5, 3, 1],\n",
              "                         'randomforestregressor__max_features': ['auto', 'sqrt',\n",
              "                                                                 'log2']},\n",
              "             pre_dispatch='2*n_jobs', refit=True, return_train_score=False,\n",
              "             scoring=None, verbose=0)"
            ]
          },
          "metadata": {
            "tags": []
          },
          "execution_count": 122
        }
      ]
    },
    {
      "cell_type": "code",
      "metadata": {
        "id": "mHJ7Lp3MY2-U",
        "colab_type": "code",
        "outputId": "a50fc257-3161-4c5c-94dc-5f2ffe60877a",
        "colab": {
          "base_uri": "https://localhost:8080/",
          "height": 34
        }
      },
      "source": [
        "print (clf.best_params_)\n"
      ],
      "execution_count": 0,
      "outputs": [
        {
          "output_type": "stream",
          "text": [
            "{'randomforestregressor__max_depth': None, 'randomforestregressor__max_features': 'sqrt'}\n"
          ],
          "name": "stdout"
        }
      ]
    },
    {
      "cell_type": "code",
      "metadata": {
        "id": "BEkm5_SYY24n",
        "colab_type": "code",
        "outputId": "0f3dd9fc-d55c-41e2-9bd0-a6856c7d7fd5",
        "colab": {
          "base_uri": "https://localhost:8080/",
          "height": 34
        }
      },
      "source": [
        "print (clf.refit)"
      ],
      "execution_count": 0,
      "outputs": [
        {
          "output_type": "stream",
          "text": [
            "True\n"
          ],
          "name": "stdout"
        }
      ]
    },
    {
      "cell_type": "markdown",
      "metadata": {
        "id": "QRfzQU5Pknuw",
        "colab_type": "text"
      },
      "source": [
        "step9 - evaluate model pipeline on test data"
      ]
    },
    {
      "cell_type": "code",
      "metadata": {
        "id": "GvS0pzKukzQ_",
        "colab_type": "code",
        "outputId": "f7321d2c-f129-4b7e-9b12-5f86e0b14984",
        "colab": {
          "base_uri": "https://localhost:8080/",
          "height": 425
        }
      },
      "source": [
        "y_pred = clf.predict(X_validation)\n",
        "print(y_pred)"
      ],
      "execution_count": 0,
      "outputs": [
        {
          "output_type": "stream",
          "text": [
            "[5.26 5.89 6.2  5.38 5.8  5.69 5.77 6.62 5.66 5.43 6.96 6.55 6.65 5.21\n",
            " 5.31 5.07 5.54 5.17 5.25 5.91 4.92 5.05 5.1  6.17 5.33 5.47 5.69 5.13\n",
            " 6.   5.68 5.76 5.04 6.06 5.61 5.75 5.3  6.7  5.4  5.83 5.33 5.3  6.21\n",
            " 6.16 5.99 5.54 5.64 5.6  6.14 5.97 6.75 6.15 5.25 6.24 6.76 5.03 5.84\n",
            " 6.15 5.04 5.23 6.75 5.06 6.41 6.   5.1  5.36 5.14 5.63 5.59 5.32 5.97\n",
            " 6.33 5.73 6.13 6.13 5.25 5.87 5.89 5.95 5.17 5.86 5.85 6.21 5.06 5.76\n",
            " 5.68 5.78 5.8  4.55 5.69 5.03 6.19 4.87 5.01 5.1  5.48 6.06 6.52 4.97\n",
            " 6.09 5.27 5.11 5.72 5.12 5.78 5.92 5.64 5.84 5.59 5.86 5.02 6.09 5.35\n",
            " 5.99 6.17 5.01 5.45 5.28 6.33 4.83 5.5  5.35 5.03 5.86 5.99 6.   5.41\n",
            " 5.09 6.75 6.39 5.74 6.56 5.29 6.28 5.25 7.01 6.01 6.51 5.12 5.52 4.85\n",
            " 5.   5.8  5.87 5.09 5.94 5.47 5.12 5.04 5.21 5.23 5.04 5.34 5.52 6.11\n",
            " 5.54 5.46 5.21 5.04 5.4  6.01 5.06 5.41 6.82 5.8  5.73 5.02 5.81 5.25\n",
            " 5.55 5.13 5.1  5.04 5.4  6.26 5.91 5.87 5.39 5.58 5.39 5.45 5.95 5.97\n",
            " 6.13 5.44 5.42 5.84 6.48 5.49 5.74 6.51 5.27 5.82 5.19 5.27 5.19 5.23\n",
            " 4.92 5.95 6.61 6.61 5.06 6.09 5.59 6.38 6.8  6.77 6.46 5.8  6.25 5.3\n",
            " 5.67 5.99 5.3  5.47 5.9  4.85 5.18 5.22 5.3  5.69 5.76 5.74 4.79 6.02\n",
            " 5.98 6.62 5.36 6.45 5.53 5.96 5.41 5.51 5.38 6.08 6.   5.09 5.44 6.99\n",
            " 5.52 5.15 5.   4.97 5.05 5.05 6.17 5.46 5.73 5.16 5.16 7.21 6.56 5.73\n",
            " 6.02 6.08 6.33 5.49 5.42 6.73 5.3  5.85 6.55 4.99 6.74 6.14 5.19 5.16\n",
            " 5.2  4.9  5.41 5.86 6.71 5.82 6.18 5.41 5.62 5.29 6.54 5.02 6.74 6.79\n",
            " 6.51 5.91 5.52 5.59 6.39 5.95 6.51 5.12 6.94 5.66 5.11 5.84 5.73 6.13\n",
            " 4.99 5.39 5.53 5.33 5.44 6.63 4.86 6.   6.61 5.43 5.68 5.97 4.81 5.83\n",
            " 5.04 5.04 5.51 6.79 5.39 6.44 5.15 5.73 6.34 4.97 4.98 6.52]\n"
          ],
          "name": "stdout"
        }
      ]
    },
    {
      "cell_type": "code",
      "metadata": {
        "id": "bktA2EmylLrv",
        "colab_type": "code",
        "outputId": "b9640f5b-acde-4c07-ce5a-567626ada3b2",
        "colab": {
          "base_uri": "https://localhost:8080/",
          "height": 265
        }
      },
      "source": [
        "print(Y_validation)"
      ],
      "execution_count": 0,
      "outputs": [
        {
          "output_type": "stream",
          "text": [
            "[6. 6. 6. 5. 6. 6. 6. 6. 6. 5. 7. 6. 6. 5. 5. 5. 6. 4. 5. 6. 5. 5. 6. 6.\n",
            " 5. 5. 6. 6. 6. 6. 5. 5. 6. 5. 6. 5. 7. 6. 7. 5. 5. 6. 7. 6. 5. 6. 6. 7.\n",
            " 6. 7. 6. 5. 6. 7. 5. 6. 6. 6. 5. 7. 5. 7. 6. 6. 5. 5. 5. 6. 6. 6. 7. 6.\n",
            " 6. 6. 5. 6. 6. 6. 5. 5. 5. 7. 5. 6. 6. 6. 5. 5. 7. 5. 6. 6. 5. 5. 5. 6.\n",
            " 6. 5. 6. 5. 5. 6. 5. 6. 6. 6. 6. 6. 6. 5. 6. 6. 6. 6. 5. 6. 6. 7. 6. 6.\n",
            " 5. 5. 6. 6. 6. 5. 5. 7. 6. 6. 7. 5. 6. 5. 6. 6. 7. 6. 6. 5. 5. 6. 6. 5.\n",
            " 6. 6. 5. 4. 5. 5. 5. 7. 6. 7. 6. 5. 5. 6. 5. 6. 5. 6. 6. 7. 6. 5. 6. 5.\n",
            " 5. 5. 5. 5. 6. 7. 6. 6. 5. 5. 5. 6. 6. 6. 6. 6. 5. 6. 6. 5. 6. 6. 5. 6.\n",
            " 5. 5. 5. 5. 4. 7. 7. 6. 5. 6. 6. 6. 7. 8. 6. 6. 7. 4. 6. 5. 5. 6. 6. 5.\n",
            " 5. 5. 5. 6. 6. 6. 5. 6. 6. 7. 5. 6. 5. 6. 6. 5. 5. 6. 6. 5. 6. 7. 6. 5.\n",
            " 5. 4. 5. 5. 6. 6. 6. 5. 5. 8. 7. 6. 6. 6. 4. 5. 5. 8. 5. 6. 5. 5. 7. 6.\n",
            " 5. 5. 4. 5. 5. 6. 7. 6. 6. 5. 5. 5. 6. 5. 7. 7. 6. 6. 5. 5. 7. 6. 6. 5.\n",
            " 7. 5. 5. 6. 5. 6. 5. 5. 6. 4. 5. 5. 5. 6. 7. 6. 5. 6. 5. 6. 4. 5. 6. 7.\n",
            " 5. 7. 5. 7. 8. 4. 5. 6.]\n"
          ],
          "name": "stdout"
        }
      ]
    },
    {
      "cell_type": "markdown",
      "metadata": {
        "id": "k_TkFvvKllJC",
        "colab_type": "text"
      },
      "source": [
        "Evaluation Metrics"
      ]
    },
    {
      "cell_type": "code",
      "metadata": {
        "id": "hl65t5UElhPO",
        "colab_type": "code",
        "outputId": "79888c5f-326d-4bba-e1ae-d64541b11482",
        "colab": {
          "base_uri": "https://localhost:8080/",
          "height": 34
        }
      },
      "source": [
        "from sklearn.metrics import mean_squared_error, r2_score\n",
        "\n",
        "print(r2_score(Y_validation,y_pred))"
      ],
      "execution_count": 0,
      "outputs": [
        {
          "output_type": "stream",
          "text": [
            "0.5416702735398886\n"
          ],
          "name": "stdout"
        }
      ]
    },
    {
      "cell_type": "code",
      "metadata": {
        "id": "wdUDrfN7lheG",
        "colab_type": "code",
        "outputId": "c1bd5211-2045-4b52-bbed-93ceff4c1da4",
        "colab": {
          "base_uri": "https://localhost:8080/",
          "height": 34
        }
      },
      "source": [
        "print(mean_squared_error(Y_validation,y_pred))"
      ],
      "execution_count": 0,
      "outputs": [
        {
          "output_type": "stream",
          "text": [
            "0.26638624999999994\n"
          ],
          "name": "stdout"
        }
      ]
    },
    {
      "cell_type": "code",
      "metadata": {
        "id": "G0zvGqp5lhoN",
        "colab_type": "code",
        "outputId": "5f37d390-831d-4e9a-93b7-123bf2d64e6c",
        "colab": {
          "base_uri": "https://localhost:8080/",
          "height": 316
        }
      },
      "source": [
        "#accuracy = accuracy_score(Y_validation,y_pred)"
      ],
      "execution_count": 0,
      "outputs": [
        {
          "output_type": "error",
          "ename": "ValueError",
          "evalue": "ignored",
          "traceback": [
            "\u001b[0;31m---------------------------------------------------------------------------\u001b[0m",
            "\u001b[0;31mValueError\u001b[0m                                Traceback (most recent call last)",
            "\u001b[0;32m<ipython-input-138-460a4d180a6b>\u001b[0m in \u001b[0;36m<module>\u001b[0;34m()\u001b[0m\n\u001b[0;32m----> 1\u001b[0;31m \u001b[0maccuracy\u001b[0m \u001b[0;34m=\u001b[0m \u001b[0maccuracy_score\u001b[0m\u001b[0;34m(\u001b[0m\u001b[0mY_validation\u001b[0m\u001b[0;34m,\u001b[0m\u001b[0my_pred\u001b[0m\u001b[0;34m)\u001b[0m\u001b[0;34m\u001b[0m\u001b[0;34m\u001b[0m\u001b[0m\n\u001b[0m",
            "\u001b[0;32m/usr/local/lib/python3.6/dist-packages/sklearn/metrics/classification.py\u001b[0m in \u001b[0;36maccuracy_score\u001b[0;34m(y_true, y_pred, normalize, sample_weight)\u001b[0m\n\u001b[1;32m    174\u001b[0m \u001b[0;34m\u001b[0m\u001b[0m\n\u001b[1;32m    175\u001b[0m     \u001b[0;31m# Compute accuracy for each possible representation\u001b[0m\u001b[0;34m\u001b[0m\u001b[0;34m\u001b[0m\u001b[0;34m\u001b[0m\u001b[0m\n\u001b[0;32m--> 176\u001b[0;31m     \u001b[0my_type\u001b[0m\u001b[0;34m,\u001b[0m \u001b[0my_true\u001b[0m\u001b[0;34m,\u001b[0m \u001b[0my_pred\u001b[0m \u001b[0;34m=\u001b[0m \u001b[0m_check_targets\u001b[0m\u001b[0;34m(\u001b[0m\u001b[0my_true\u001b[0m\u001b[0;34m,\u001b[0m \u001b[0my_pred\u001b[0m\u001b[0;34m)\u001b[0m\u001b[0;34m\u001b[0m\u001b[0;34m\u001b[0m\u001b[0m\n\u001b[0m\u001b[1;32m    177\u001b[0m     \u001b[0mcheck_consistent_length\u001b[0m\u001b[0;34m(\u001b[0m\u001b[0my_true\u001b[0m\u001b[0;34m,\u001b[0m \u001b[0my_pred\u001b[0m\u001b[0;34m,\u001b[0m \u001b[0msample_weight\u001b[0m\u001b[0;34m)\u001b[0m\u001b[0;34m\u001b[0m\u001b[0;34m\u001b[0m\u001b[0m\n\u001b[1;32m    178\u001b[0m     \u001b[0;32mif\u001b[0m \u001b[0my_type\u001b[0m\u001b[0;34m.\u001b[0m\u001b[0mstartswith\u001b[0m\u001b[0;34m(\u001b[0m\u001b[0;34m'multilabel'\u001b[0m\u001b[0;34m)\u001b[0m\u001b[0;34m:\u001b[0m\u001b[0;34m\u001b[0m\u001b[0;34m\u001b[0m\u001b[0m\n",
            "\u001b[0;32m/usr/local/lib/python3.6/dist-packages/sklearn/metrics/classification.py\u001b[0m in \u001b[0;36m_check_targets\u001b[0;34m(y_true, y_pred)\u001b[0m\n\u001b[1;32m     79\u001b[0m     \u001b[0;32mif\u001b[0m \u001b[0mlen\u001b[0m\u001b[0;34m(\u001b[0m\u001b[0my_type\u001b[0m\u001b[0;34m)\u001b[0m \u001b[0;34m>\u001b[0m \u001b[0;36m1\u001b[0m\u001b[0;34m:\u001b[0m\u001b[0;34m\u001b[0m\u001b[0;34m\u001b[0m\u001b[0m\n\u001b[1;32m     80\u001b[0m         raise ValueError(\"Classification metrics can't handle a mix of {0} \"\n\u001b[0;32m---> 81\u001b[0;31m                          \"and {1} targets\".format(type_true, type_pred))\n\u001b[0m\u001b[1;32m     82\u001b[0m \u001b[0;34m\u001b[0m\u001b[0m\n\u001b[1;32m     83\u001b[0m     \u001b[0;31m# We can't have more than one value on y_type => The set is no more needed\u001b[0m\u001b[0;34m\u001b[0m\u001b[0;34m\u001b[0m\u001b[0;34m\u001b[0m\u001b[0m\n",
            "\u001b[0;31mValueError\u001b[0m: Classification metrics can't handle a mix of multiclass and continuous targets"
          ]
        }
      ]
    },
    {
      "cell_type": "code",
      "metadata": {
        "id": "H2liNsGVn_A3",
        "colab_type": "code",
        "outputId": "fad4be75-ac1d-4ebd-f990-5b5656ad1372",
        "colab": {
          "base_uri": "https://localhost:8080/",
          "height": 34
        }
      },
      "source": [
        "from google.colab import drive\n",
        "drive.mount('/content/drive')\n",
        "import sys\n",
        "import os\n",
        "sys.path.append(\"/content/drive/My Drive/Ml_Saved_models\")\n",
        "working_path = '/content/drive/My Drive/Ml_Saved_models'"
      ],
      "execution_count": 0,
      "outputs": [
        {
          "output_type": "stream",
          "text": [
            "Drive already mounted at /content/drive; to attempt to forcibly remount, call drive.mount(\"/content/drive\", force_remount=True).\n"
          ],
          "name": "stdout"
        }
      ]
    },
    {
      "cell_type": "code",
      "metadata": {
        "id": "vFo89NcHlhm4",
        "colab_type": "code",
        "outputId": "004f69ba-21df-45ca-ab3c-1bc92496e1e9",
        "colab": {
          "base_uri": "https://localhost:8080/",
          "height": 34
        }
      },
      "source": [
        "from sklearn.externals import joblib\n",
        "joblib.dump(clf, '/content/drive/My Drive/Ml_Saved_models/rf_regressor.pkl')"
      ],
      "execution_count": 0,
      "outputs": [
        {
          "output_type": "execute_result",
          "data": {
            "text/plain": [
              "['/content/drive/My Drive/Ml_Saved_models/rf_regressor.pkl']"
            ]
          },
          "metadata": {
            "tags": []
          },
          "execution_count": 145
        }
      ]
    },
    {
      "cell_type": "code",
      "metadata": {
        "id": "2B2w562Elhcu",
        "colab_type": "code",
        "outputId": "e8b9917b-78e1-4979-c3fc-166b05fca34a",
        "colab": {
          "base_uri": "https://localhost:8080/",
          "height": 550
        }
      },
      "source": [
        "clf2 = joblib.load('/content/drive/My Drive/Ml_Saved_models/rf_regressor.pkl')\n",
        " \n",
        "# Predict data set using loaded model\n",
        "clf2.predict(X_validation)"
      ],
      "execution_count": 0,
      "outputs": [
        {
          "output_type": "execute_result",
          "data": {
            "text/plain": [
              "array([5.26, 5.89, 6.2 , 5.38, 5.8 , 5.69, 5.77, 6.62, 5.66, 5.43, 6.96,\n",
              "       6.55, 6.65, 5.21, 5.31, 5.07, 5.54, 5.17, 5.25, 5.91, 4.92, 5.05,\n",
              "       5.1 , 6.17, 5.33, 5.47, 5.69, 5.13, 6.  , 5.68, 5.76, 5.04, 6.06,\n",
              "       5.61, 5.75, 5.3 , 6.7 , 5.4 , 5.83, 5.33, 5.3 , 6.21, 6.16, 5.99,\n",
              "       5.54, 5.64, 5.6 , 6.14, 5.97, 6.75, 6.15, 5.25, 6.24, 6.76, 5.03,\n",
              "       5.84, 6.15, 5.04, 5.23, 6.75, 5.06, 6.41, 6.  , 5.1 , 5.36, 5.14,\n",
              "       5.63, 5.59, 5.32, 5.97, 6.33, 5.73, 6.13, 6.13, 5.25, 5.87, 5.89,\n",
              "       5.95, 5.17, 5.86, 5.85, 6.21, 5.06, 5.76, 5.68, 5.78, 5.8 , 4.55,\n",
              "       5.69, 5.03, 6.19, 4.87, 5.01, 5.1 , 5.48, 6.06, 6.52, 4.97, 6.09,\n",
              "       5.27, 5.11, 5.72, 5.12, 5.78, 5.92, 5.64, 5.84, 5.59, 5.86, 5.02,\n",
              "       6.09, 5.35, 5.99, 6.17, 5.01, 5.45, 5.28, 6.33, 4.83, 5.5 , 5.35,\n",
              "       5.03, 5.86, 5.99, 6.  , 5.41, 5.09, 6.75, 6.39, 5.74, 6.56, 5.29,\n",
              "       6.28, 5.25, 7.01, 6.01, 6.51, 5.12, 5.52, 4.85, 5.  , 5.8 , 5.87,\n",
              "       5.09, 5.94, 5.47, 5.12, 5.04, 5.21, 5.23, 5.04, 5.34, 5.52, 6.11,\n",
              "       5.54, 5.46, 5.21, 5.04, 5.4 , 6.01, 5.06, 5.41, 6.82, 5.8 , 5.73,\n",
              "       5.02, 5.81, 5.25, 5.55, 5.13, 5.1 , 5.04, 5.4 , 6.26, 5.91, 5.87,\n",
              "       5.39, 5.58, 5.39, 5.45, 5.95, 5.97, 6.13, 5.44, 5.42, 5.84, 6.48,\n",
              "       5.49, 5.74, 6.51, 5.27, 5.82, 5.19, 5.27, 5.19, 5.23, 4.92, 5.95,\n",
              "       6.61, 6.61, 5.06, 6.09, 5.59, 6.38, 6.8 , 6.77, 6.46, 5.8 , 6.25,\n",
              "       5.3 , 5.67, 5.99, 5.3 , 5.47, 5.9 , 4.85, 5.18, 5.22, 5.3 , 5.69,\n",
              "       5.76, 5.74, 4.79, 6.02, 5.98, 6.62, 5.36, 6.45, 5.53, 5.96, 5.41,\n",
              "       5.51, 5.38, 6.08, 6.  , 5.09, 5.44, 6.99, 5.52, 5.15, 5.  , 4.97,\n",
              "       5.05, 5.05, 6.17, 5.46, 5.73, 5.16, 5.16, 7.21, 6.56, 5.73, 6.02,\n",
              "       6.08, 6.33, 5.49, 5.42, 6.73, 5.3 , 5.85, 6.55, 4.99, 6.74, 6.14,\n",
              "       5.19, 5.16, 5.2 , 4.9 , 5.41, 5.86, 6.71, 5.82, 6.18, 5.41, 5.62,\n",
              "       5.29, 6.54, 5.02, 6.74, 6.79, 6.51, 5.91, 5.52, 5.59, 6.39, 5.95,\n",
              "       6.51, 5.12, 6.94, 5.66, 5.11, 5.84, 5.73, 6.13, 4.99, 5.39, 5.53,\n",
              "       5.33, 5.44, 6.63, 4.86, 6.  , 6.61, 5.43, 5.68, 5.97, 4.81, 5.83,\n",
              "       5.04, 5.04, 5.51, 6.79, 5.39, 6.44, 5.15, 5.73, 6.34, 4.97, 4.98,\n",
              "       6.52])"
            ]
          },
          "metadata": {
            "tags": []
          },
          "execution_count": 147
        }
      ]
    },
    {
      "cell_type": "markdown",
      "metadata": {
        "id": "6qU1d9PmsS1T",
        "colab_type": "text"
      },
      "source": [
        "<h3>Accuracy is for classification metrics and For regression r2_score, MSE and more evaluation metrics</h3>"
      ]
    },
    {
      "cell_type": "markdown",
      "metadata": {
        "id": "c5l_7xs0smmj",
        "colab_type": "text"
      },
      "source": [
        "checking with Linear regression"
      ]
    },
    {
      "cell_type": "code",
      "metadata": {
        "id": "rpKFpNpas28W",
        "colab_type": "code",
        "colab": {}
      },
      "source": [
        "from sklearn.linear_model import LinearRegression\n",
        "lr=LinearRegression()\n",
        "lr.fit(X_train,Y_train)\n",
        "predic=lr.predict(X_validation)\n"
      ],
      "execution_count": 0,
      "outputs": []
    },
    {
      "cell_type": "code",
      "metadata": {
        "id": "CoNXl4TWtPVg",
        "colab_type": "code",
        "outputId": "235a11eb-8609-4944-aaa5-723195e90d58",
        "colab": {
          "base_uri": "https://localhost:8080/",
          "height": 976
        }
      },
      "source": [
        "print(predic)  #predictions is saved i guess with KNN so giving result like KNN - pred as declared before"
      ],
      "execution_count": 0,
      "outputs": [
        {
          "output_type": "stream",
          "text": [
            "[5.57677986 5.64161131 5.98730261 5.30303178 5.9113447  5.73937178\n",
            " 5.51635187 6.38570441 5.20488664 5.54504355 6.11487573 6.47222437\n",
            " 6.74630905 5.26095845 5.25443506 4.89283086 5.88044778 5.08219861\n",
            " 5.71430495 5.60082151 5.44405793 5.16337536 5.26352653 5.90402394\n",
            " 5.38818268 6.02108771 5.36625773 5.09769808 6.0691894  5.07409137\n",
            " 5.76406117 5.12804435 5.49330232 5.70030748 5.16926743 4.96614548\n",
            " 6.5406942  5.10157748 5.90981563 5.52620998 5.33115415 6.35314119\n",
            " 6.12330211 5.73284821 5.81853503 5.67046672 5.73657268 5.85741004\n",
            " 6.02475725 6.62669458 6.15531997 5.30245102 6.31745718 6.67438841\n",
            " 5.61451545 5.94350791 6.09744807 5.6336643  5.08139618 6.95101454\n",
            " 5.35403136 6.19042521 6.08604341 5.20446964 5.26463108 5.29421434\n",
            " 5.9881625  5.75728014 5.76286715 5.92775795 6.52624809 5.85495037\n",
            " 6.17303976 6.09565018 4.97681464 6.2621982  5.79096404 5.81722252\n",
            " 5.2664038  5.94047206 5.58870882 6.0735605  5.66843153 5.13058346\n",
            " 5.40383735 6.12022803 5.64319318 4.68105907 5.77469521 5.16690257\n",
            " 6.10490006 5.07490756 5.39199032 5.28891408 5.8300572  6.00191775\n",
            " 6.29947057 4.98429915 6.3906869  5.9132987  4.96365785 5.6269777\n",
            " 5.32760617 5.17048991 5.18313932 5.52760582 5.6395407  5.64184946\n",
            " 5.7826499  5.21428267 5.825615   5.26940817 5.83734613 6.09624137\n",
            " 5.15399404 5.38717704 5.21800245 6.11781774 5.14214955 5.39541716\n",
            " 5.11339804 5.18986894 5.59923702 6.23684283 6.01593896 5.31153071\n",
            " 5.3314857  6.44278078 6.4699346  5.64656623 6.47627325 5.09800916\n",
            " 6.29360466 5.15908702 6.81611345 6.10081595 5.53907805 5.17315902\n",
            " 5.21069913 4.82018516 4.78093335 5.45314936 5.54855119 5.21931628\n",
            " 5.23124277 5.59410424 5.74653139 5.09981901 5.47782345 5.63755788\n",
            " 4.90605915 5.38937656 5.27329711 6.23319617 5.32704692 5.37271839\n",
            " 5.17332211 5.46578145 5.60091245 5.74811321 5.07061317 5.78256945\n",
            " 6.74504562 6.12502637 5.47158787 4.94078189 5.37358982 5.39783212\n",
            " 6.37531933 5.33201169 5.16066499 5.61793108 5.28476029 5.95815711\n",
            " 5.8880074  5.72997185 5.78054372 5.27157347 5.87674585 5.43794458\n",
            " 6.24427787 5.73985002 6.09565018 5.58702238 5.54349474 5.69633201\n",
            " 6.03058911 5.57387968 5.43003682 6.80014462 5.4040662  6.72672674\n",
            " 5.31262935 5.4040662  5.10994086 5.58118827 4.8466598  6.22393584\n",
            " 6.47422656 6.39415972 5.27249621 6.05049188 5.70105883 6.02694333\n",
            " 6.0787843  6.8364454  6.28439374 5.69390314 6.42323743 5.62830242\n",
            " 5.78400746 5.34345258 5.86983172 5.51064555 6.01016888 4.82018516\n",
            " 5.36100516 5.86575158 5.30638473 5.66855025 5.71715601 5.61563598\n",
            " 5.0266561  5.87851038 5.94636067 6.42127415 5.06860186 6.2610255\n",
            " 5.41676239 5.7980615  5.37041356 5.34179691 6.11815362 5.80732423\n",
            " 5.83023066 5.19024969 5.33302241 6.563212   5.51733195 5.59050031\n",
            " 5.16285043 5.12890313 5.50752536 5.13434919 6.03423235 5.29479644\n",
            " 5.77899883 5.1482456  5.45763477 6.15581451 5.78572833 5.53874447\n",
            " 6.0429418  6.26183859 6.38688887 5.93508694 5.25269166 6.32027365\n",
            " 5.69816342 5.58521473 6.0762927  4.62574819 6.96917546 6.35966051\n",
            " 5.39365422 5.42269688 4.91282631 5.49120731 5.53747035 5.6989295\n",
            " 6.68345086 5.52038785 6.81576614 5.77727429 5.41026518 5.09565261\n",
            " 6.17486951 4.96117568 6.17943715 6.89490362 6.80014462 5.94415681\n",
            " 5.02160784 5.84599896 6.37979303 5.63103357 6.44449618 5.01531753\n",
            " 6.45023609 5.87645915 4.97829358 6.04175135 5.51368925 6.12593281\n",
            " 4.27852162 5.68936762 5.47631811 5.01827305 5.38158355 7.49956485\n",
            " 4.77367032 5.94768323 6.20794061 5.30221256 5.40930467 5.72979324\n",
            " 4.78294925 5.7402469  5.17122756 5.01444247 5.51848069 6.89490362\n",
            " 5.79159901 6.4979244  5.70578982 5.82665388 6.39980546 5.1692294\n",
            " 5.07922676 6.29947057]\n"
          ],
          "name": "stdout"
        }
      ]
    },
    {
      "cell_type": "code",
      "metadata": {
        "id": "zSK9TzrItXTl",
        "colab_type": "code",
        "outputId": "d319ceec-c774-4f17-c365-e0621bd89d89",
        "colab": {
          "base_uri": "https://localhost:8080/",
          "height": 265
        }
      },
      "source": [
        "print(Y_validation)"
      ],
      "execution_count": 0,
      "outputs": [
        {
          "output_type": "stream",
          "text": [
            "[6. 6. 6. 5. 6. 6. 6. 6. 6. 5. 7. 6. 6. 5. 5. 5. 6. 4. 5. 6. 5. 5. 6. 6.\n",
            " 5. 5. 6. 6. 6. 6. 5. 5. 6. 5. 6. 5. 7. 6. 7. 5. 5. 6. 7. 6. 5. 6. 6. 7.\n",
            " 6. 7. 6. 5. 6. 7. 5. 6. 6. 6. 5. 7. 5. 7. 6. 6. 5. 5. 5. 6. 6. 6. 7. 6.\n",
            " 6. 6. 5. 6. 6. 6. 5. 5. 5. 7. 5. 6. 6. 6. 5. 5. 7. 5. 6. 6. 5. 5. 5. 6.\n",
            " 6. 5. 6. 5. 5. 6. 5. 6. 6. 6. 6. 6. 6. 5. 6. 6. 6. 6. 5. 6. 6. 7. 6. 6.\n",
            " 5. 5. 6. 6. 6. 5. 5. 7. 6. 6. 7. 5. 6. 5. 6. 6. 7. 6. 6. 5. 5. 6. 6. 5.\n",
            " 6. 6. 5. 4. 5. 5. 5. 7. 6. 7. 6. 5. 5. 6. 5. 6. 5. 6. 6. 7. 6. 5. 6. 5.\n",
            " 5. 5. 5. 5. 6. 7. 6. 6. 5. 5. 5. 6. 6. 6. 6. 6. 5. 6. 6. 5. 6. 6. 5. 6.\n",
            " 5. 5. 5. 5. 4. 7. 7. 6. 5. 6. 6. 6. 7. 8. 6. 6. 7. 4. 6. 5. 5. 6. 6. 5.\n",
            " 5. 5. 5. 6. 6. 6. 5. 6. 6. 7. 5. 6. 5. 6. 6. 5. 5. 6. 6. 5. 6. 7. 6. 5.\n",
            " 5. 4. 5. 5. 6. 6. 6. 5. 5. 8. 7. 6. 6. 6. 4. 5. 5. 8. 5. 6. 5. 5. 7. 6.\n",
            " 5. 5. 4. 5. 5. 6. 7. 6. 6. 5. 5. 5. 6. 5. 7. 7. 6. 6. 5. 5. 7. 6. 6. 5.\n",
            " 7. 5. 5. 6. 5. 6. 5. 5. 6. 4. 5. 5. 5. 6. 7. 6. 5. 6. 5. 6. 4. 5. 6. 7.\n",
            " 5. 7. 5. 7. 8. 4. 5. 6.]\n"
          ],
          "name": "stdout"
        }
      ]
    },
    {
      "cell_type": "code",
      "metadata": {
        "id": "CfLvFUkxtoxQ",
        "colab_type": "code",
        "outputId": "dfee5289-0c52-404e-d7cc-ea9dacf27a3f",
        "colab": {
          "base_uri": "https://localhost:8080/",
          "height": 334
        }
      },
      "source": [
        "accuracy=accuracy_score(Y_validation,predic)\n",
        "print(accuracy)"
      ],
      "execution_count": 0,
      "outputs": [
        {
          "output_type": "error",
          "ename": "ValueError",
          "evalue": "ignored",
          "traceback": [
            "\u001b[0;31m---------------------------------------------------------------------------\u001b[0m",
            "\u001b[0;31mValueError\u001b[0m                                Traceback (most recent call last)",
            "\u001b[0;32m<ipython-input-162-1a65b171139c>\u001b[0m in \u001b[0;36m<module>\u001b[0;34m()\u001b[0m\n\u001b[0;32m----> 1\u001b[0;31m \u001b[0maccuracy\u001b[0m\u001b[0;34m=\u001b[0m\u001b[0maccuracy_score\u001b[0m\u001b[0;34m(\u001b[0m\u001b[0mY_validation\u001b[0m\u001b[0;34m,\u001b[0m\u001b[0mpredic\u001b[0m\u001b[0;34m)\u001b[0m\u001b[0;34m\u001b[0m\u001b[0;34m\u001b[0m\u001b[0m\n\u001b[0m\u001b[1;32m      2\u001b[0m \u001b[0mprint\u001b[0m\u001b[0;34m(\u001b[0m\u001b[0maccuracy\u001b[0m\u001b[0;34m)\u001b[0m\u001b[0;34m\u001b[0m\u001b[0;34m\u001b[0m\u001b[0m\n",
            "\u001b[0;32m/usr/local/lib/python3.6/dist-packages/sklearn/metrics/classification.py\u001b[0m in \u001b[0;36maccuracy_score\u001b[0;34m(y_true, y_pred, normalize, sample_weight)\u001b[0m\n\u001b[1;32m    174\u001b[0m \u001b[0;34m\u001b[0m\u001b[0m\n\u001b[1;32m    175\u001b[0m     \u001b[0;31m# Compute accuracy for each possible representation\u001b[0m\u001b[0;34m\u001b[0m\u001b[0;34m\u001b[0m\u001b[0;34m\u001b[0m\u001b[0m\n\u001b[0;32m--> 176\u001b[0;31m     \u001b[0my_type\u001b[0m\u001b[0;34m,\u001b[0m \u001b[0my_true\u001b[0m\u001b[0;34m,\u001b[0m \u001b[0my_pred\u001b[0m \u001b[0;34m=\u001b[0m \u001b[0m_check_targets\u001b[0m\u001b[0;34m(\u001b[0m\u001b[0my_true\u001b[0m\u001b[0;34m,\u001b[0m \u001b[0my_pred\u001b[0m\u001b[0;34m)\u001b[0m\u001b[0;34m\u001b[0m\u001b[0;34m\u001b[0m\u001b[0m\n\u001b[0m\u001b[1;32m    177\u001b[0m     \u001b[0mcheck_consistent_length\u001b[0m\u001b[0;34m(\u001b[0m\u001b[0my_true\u001b[0m\u001b[0;34m,\u001b[0m \u001b[0my_pred\u001b[0m\u001b[0;34m,\u001b[0m \u001b[0msample_weight\u001b[0m\u001b[0;34m)\u001b[0m\u001b[0;34m\u001b[0m\u001b[0;34m\u001b[0m\u001b[0m\n\u001b[1;32m    178\u001b[0m     \u001b[0;32mif\u001b[0m \u001b[0my_type\u001b[0m\u001b[0;34m.\u001b[0m\u001b[0mstartswith\u001b[0m\u001b[0;34m(\u001b[0m\u001b[0;34m'multilabel'\u001b[0m\u001b[0;34m)\u001b[0m\u001b[0;34m:\u001b[0m\u001b[0;34m\u001b[0m\u001b[0;34m\u001b[0m\u001b[0m\n",
            "\u001b[0;32m/usr/local/lib/python3.6/dist-packages/sklearn/metrics/classification.py\u001b[0m in \u001b[0;36m_check_targets\u001b[0;34m(y_true, y_pred)\u001b[0m\n\u001b[1;32m     79\u001b[0m     \u001b[0;32mif\u001b[0m \u001b[0mlen\u001b[0m\u001b[0;34m(\u001b[0m\u001b[0my_type\u001b[0m\u001b[0;34m)\u001b[0m \u001b[0;34m>\u001b[0m \u001b[0;36m1\u001b[0m\u001b[0;34m:\u001b[0m\u001b[0;34m\u001b[0m\u001b[0;34m\u001b[0m\u001b[0m\n\u001b[1;32m     80\u001b[0m         raise ValueError(\"Classification metrics can't handle a mix of {0} \"\n\u001b[0;32m---> 81\u001b[0;31m                          \"and {1} targets\".format(type_true, type_pred))\n\u001b[0m\u001b[1;32m     82\u001b[0m \u001b[0;34m\u001b[0m\u001b[0m\n\u001b[1;32m     83\u001b[0m     \u001b[0;31m# We can't have more than one value on y_type => The set is no more needed\u001b[0m\u001b[0;34m\u001b[0m\u001b[0;34m\u001b[0m\u001b[0;34m\u001b[0m\u001b[0m\n",
            "\u001b[0;31mValueError\u001b[0m: Classification metrics can't handle a mix of multiclass and continuous targets"
          ]
        }
      ]
    },
    {
      "cell_type": "code",
      "metadata": {
        "id": "xs1uk141uUjJ",
        "colab_type": "code",
        "outputId": "5f4e6a20-2af5-4b4a-8c3e-f09eab7e7288",
        "colab": {
          "base_uri": "https://localhost:8080/",
          "height": 34
        }
      },
      "source": [
        "print(r2_score(Y_validation,predic))"
      ],
      "execution_count": 0,
      "outputs": [
        {
          "output_type": "stream",
          "text": [
            "0.3532031937490142\n"
          ],
          "name": "stdout"
        }
      ]
    },
    {
      "cell_type": "code",
      "metadata": {
        "id": "tEAkX_STugrp",
        "colab_type": "code",
        "outputId": "49380729-bb57-48c8-87da-0c4d6df8020b",
        "colab": {
          "base_uri": "https://localhost:8080/",
          "height": 34
        }
      },
      "source": [
        "print(mean_squared_error(Y_validation,predic))"
      ],
      "execution_count": 0,
      "outputs": [
        {
          "output_type": "stream",
          "text": [
            "0.37592537813314136\n"
          ],
          "name": "stdout"
        }
      ]
    },
    {
      "cell_type": "markdown",
      "metadata": {
        "id": "AmrzR2bhu6x2",
        "colab_type": "text"
      },
      "source": [
        "<h3>Regression Comparison result</h3>Randomforest regression worked fine than linear regression - "
      ]
    },
    {
      "cell_type": "markdown",
      "metadata": {
        "id": "xPTI60WFvVWb",
        "colab_type": "text"
      },
      "source": [
        "<h3>Implementing Logistic regression</h3>"
      ]
    },
    {
      "cell_type": "code",
      "metadata": {
        "id": "Jbt0LCdVu5aq",
        "colab_type": "code",
        "outputId": "bd0a749a-11e6-4c4a-e5da-a68e034bbe55",
        "colab": {
          "base_uri": "https://localhost:8080/",
          "height": 107
        }
      },
      "source": [
        "from sklearn.linear_model import LogisticRegression\n",
        "logicRe = LogisticRegression()\n",
        "logicRe.fit(X_train,Y_train)\n",
        "predictionc=logicRe.predict(X_validation)\n",
        "\n"
      ],
      "execution_count": 0,
      "outputs": [
        {
          "output_type": "stream",
          "text": [
            "/usr/local/lib/python3.6/dist-packages/sklearn/linear_model/logistic.py:432: FutureWarning: Default solver will be changed to 'lbfgs' in 0.22. Specify a solver to silence this warning.\n",
            "  FutureWarning)\n",
            "/usr/local/lib/python3.6/dist-packages/sklearn/linear_model/logistic.py:469: FutureWarning: Default multi_class will be changed to 'auto' in 0.22. Specify the multi_class option to silence this warning.\n",
            "  \"this warning.\", FutureWarning)\n"
          ],
          "name": "stderr"
        }
      ]
    },
    {
      "cell_type": "code",
      "metadata": {
        "id": "cuTXrGwsu5nh",
        "colab_type": "code",
        "outputId": "febd81ba-2378-475d-abf4-d11db1f2af22",
        "colab": {
          "base_uri": "https://localhost:8080/",
          "height": 265
        }
      },
      "source": [
        "print(predictionc)"
      ],
      "execution_count": 0,
      "outputs": [
        {
          "output_type": "stream",
          "text": [
            "[5. 5. 6. 5. 6. 6. 6. 6. 5. 5. 6. 6. 7. 5. 5. 5. 6. 5. 6. 6. 6. 5. 5. 6.\n",
            " 5. 6. 5. 5. 6. 5. 6. 5. 6. 6. 5. 5. 7. 5. 6. 5. 5. 7. 6. 6. 6. 6. 5. 6.\n",
            " 6. 6. 6. 5. 6. 6. 6. 6. 6. 6. 5. 7. 5. 6. 6. 5. 5. 5. 6. 6. 5. 6. 6. 6.\n",
            " 6. 6. 5. 6. 6. 6. 5. 6. 6. 6. 5. 5. 5. 6. 5. 5. 6. 5. 6. 5. 5. 5. 6. 6.\n",
            " 6. 5. 6. 6. 5. 6. 5. 5. 5. 6. 6. 6. 6. 5. 6. 5. 6. 6. 5. 5. 5. 6. 5. 5.\n",
            " 5. 5. 6. 6. 6. 5. 5. 7. 6. 5. 6. 5. 6. 5. 7. 6. 6. 5. 5. 5. 5. 5. 6. 5.\n",
            " 5. 6. 6. 5. 5. 6. 5. 5. 5. 6. 5. 5. 5. 5. 5. 6. 5. 6. 7. 6. 5. 5. 5. 5.\n",
            " 6. 5. 5. 5. 5. 6. 6. 6. 6. 5. 6. 5. 6. 6. 6. 5. 5. 6. 6. 5. 5. 7. 5. 7.\n",
            " 5. 5. 5. 5. 5. 6. 7. 6. 5. 6. 5. 6. 6. 7. 6. 5. 6. 5. 6. 5. 6. 5. 6. 5.\n",
            " 5. 6. 5. 6. 6. 5. 5. 6. 6. 6. 5. 6. 5. 6. 5. 5. 6. 6. 6. 5. 5. 6. 5. 5.\n",
            " 5. 5. 5. 5. 6. 5. 5. 5. 6. 6. 6. 5. 6. 6. 7. 6. 5. 6. 6. 5. 6. 5. 7. 7.\n",
            " 5. 5. 5. 6. 5. 6. 6. 5. 7. 6. 5. 5. 5. 5. 6. 7. 7. 6. 5. 6. 6. 6. 6. 5.\n",
            " 6. 6. 5. 6. 5. 6. 5. 5. 5. 5. 5. 7. 5. 6. 6. 5. 6. 5. 5. 6. 5. 5. 5. 7.\n",
            " 6. 6. 6. 6. 6. 5. 5. 6.]\n"
          ],
          "name": "stdout"
        }
      ]
    },
    {
      "cell_type": "code",
      "metadata": {
        "id": "au2zAVsFu5v5",
        "colab_type": "code",
        "outputId": "d1440df8-80d3-40aa-9ff2-a20c5976dde7",
        "colab": {
          "base_uri": "https://localhost:8080/",
          "height": 34
        }
      },
      "source": [
        "accuracyc=accuracy_score(Y_validation,predictionc)\n",
        "print(accuracyc)"
      ],
      "execution_count": 0,
      "outputs": [
        {
          "output_type": "stream",
          "text": [
            "0.56875\n"
          ],
          "name": "stdout"
        }
      ]
    },
    {
      "cell_type": "markdown",
      "metadata": {
        "id": "RC9-6qzGxmDj",
        "colab_type": "text"
      },
      "source": [
        "<h3>Classification comparison</h3>As of Logistic regression worked well as compared to KNN   "
      ]
    },
    {
      "cell_type": "code",
      "metadata": {
        "id": "yT_YOPuzxkqR",
        "colab_type": "code",
        "outputId": "575b2bc9-29d2-4e56-f2fb-02dc65029f75",
        "colab": {
          "base_uri": "https://localhost:8080/",
          "height": 34
        }
      },
      "source": [
        "print(r2_score(Y_validation,predictionc)) # wrong scenario as classfied predictions are not evaluated by r2 and mse"
      ],
      "execution_count": 0,
      "outputs": [
        {
          "output_type": "stream",
          "text": [
            "0.13435042677599307\n"
          ],
          "name": "stdout"
        }
      ]
    },
    {
      "cell_type": "code",
      "metadata": {
        "id": "nGA1wy81z0HE",
        "colab_type": "code",
        "outputId": "88b480fa-4e88-4528-ba36-edb2391eb09d",
        "colab": {
          "base_uri": "https://localhost:8080/",
          "height": 34
        }
      },
      "source": [
        "print(mean_squared_error(Y_validation,predictionc)) # wrong scenario as classfied predictions are not evaluated by r2 and mse"
      ],
      "execution_count": 0,
      "outputs": [
        {
          "output_type": "stream",
          "text": [
            "0.503125\n"
          ],
          "name": "stdout"
        }
      ]
    },
    {
      "cell_type": "markdown",
      "metadata": {
        "id": "skrM-RtG3M2r",
        "colab_type": "text"
      },
      "source": [
        "<h3>Misclassified Predictions</h3>"
      ]
    },
    {
      "cell_type": "code",
      "metadata": {
        "id": "5zz1u8sA2f-D",
        "colab_type": "code",
        "outputId": "54ea8ae3-766f-4fd3-ea41-42fae586a081",
        "colab": {
          "base_uri": "https://localhost:8080/",
          "height": 336
        }
      },
      "source": [
        "#Misclassified\n",
        "\n",
        "Misclassified = (predictionc-Y_validation)\n",
        "\n",
        "print(Misclassified)\n"
      ],
      "execution_count": 0,
      "outputs": [
        {
          "output_type": "stream",
          "text": [
            "[-1. -1.  0.  0.  0.  0.  0.  0. -1.  0. -1.  0.  1.  0.  0.  0.  0.  1.\n",
            "  1.  0.  1.  0. -1.  0.  0.  1. -1. -1.  0. -1.  1.  0.  0.  1. -1.  0.\n",
            "  0. -1. -1.  0.  0.  1. -1.  0.  1.  0. -1. -1.  0. -1.  0.  0.  0. -1.\n",
            "  1.  0.  0.  0.  0.  0.  0. -1.  0. -1.  0.  0.  1.  0. -1.  0. -1.  0.\n",
            "  0.  0.  0.  0.  0.  0.  0.  1.  1. -1.  0. -1. -1.  0.  0.  0. -1.  0.\n",
            "  0. -1.  0.  0.  1.  0.  0.  0.  0.  1.  0.  0.  0. -1. -1.  0.  0.  0.\n",
            "  0.  0.  0. -1.  0.  0.  0. -1. -1. -1. -1. -1.  0.  0.  0.  0.  0.  0.\n",
            "  0.  0.  0. -1. -1.  0.  0.  0.  1.  0. -1. -1. -1.  0.  0. -1.  0.  0.\n",
            " -1.  0.  1.  1.  0.  1.  0. -2. -1. -1. -1.  0.  0. -1.  0.  0.  0.  0.\n",
            "  1. -1. -1.  0. -1.  0.  1.  0.  0.  0. -1. -1.  0.  0.  1.  0.  1. -1.\n",
            "  0.  0.  0. -1.  0.  0.  0.  0. -1.  1.  0.  1.  0.  0.  0.  0.  1. -1.\n",
            "  0.  0.  0.  0. -1.  0. -1. -1.  0. -1. -1.  1.  0.  0.  1. -1.  0.  0.\n",
            "  0.  1.  0.  0.  0. -1.  0.  0.  0. -1.  0.  0.  0.  0. -1.  0.  1.  0.\n",
            "  0.  0. -1. -1. -1.  0.  0.  1.  0.  0.  0. -1. -1.  0.  1. -2. -1. -1.\n",
            "  0.  0.  3.  1.  0. -2.  1. -1.  1.  0.  0.  1.  0.  0.  1.  1.  0.  0.\n",
            " -1. -1.  1.  1.  0.  0. -1.  0. -1.  0.  1.  0.  0.  1. -1.  0.  0.  0.\n",
            " -1.  1.  0.  0.  0.  0.  0.  0. -1.  1.  0.  2.  0.  0. -1. -1.  1. -1.\n",
            "  0.  0.  1.  0. -1.  0.  1. -1.  1. -1. -2.  1.  0.  0.]\n"
          ],
          "name": "stdout"
        }
      ]
    },
    {
      "cell_type": "markdown",
      "metadata": {
        "id": "1mi8L5mB3LWa",
        "colab_type": "text"
      },
      "source": [
        "<h3>Displaying Misclassified</h3>"
      ]
    },
    {
      "cell_type": "code",
      "metadata": {
        "id": "WzNIUZLy28Tr",
        "colab_type": "code",
        "outputId": "388d0782-2a30-4eaa-b4c9-9530d563a425",
        "colab": {
          "base_uri": "https://localhost:8080/",
          "height": 72
        }
      },
      "source": [
        "li=[]\n",
        "k=0\n",
        "for i in Misclassified:\n",
        "  if i!=0:\n",
        "    li.append(i)\n",
        "    k+=1\n",
        "  \n",
        "  \n",
        "print(li)\n",
        "print(k)"
      ],
      "execution_count": 0,
      "outputs": [
        {
          "output_type": "stream",
          "text": [
            "[-1.0, -1.0, -1.0, -1.0, 1.0, 1.0, 1.0, 1.0, -1.0, 1.0, -1.0, -1.0, -1.0, 1.0, 1.0, -1.0, -1.0, -1.0, 1.0, -1.0, 1.0, -1.0, -1.0, -1.0, -1.0, 1.0, -1.0, -1.0, 1.0, -1.0, -1.0, 1.0, 1.0, -1.0, -1.0, -1.0, -1.0, -1.0, 1.0, 1.0, -1.0, -1.0, -1.0, -1.0, -1.0, -1.0, -1.0, -1.0, -1.0, -1.0, 1.0, -1.0, -1.0, -1.0, -1.0, -1.0, 1.0, 1.0, 1.0, -2.0, -1.0, -1.0, -1.0, -1.0, 1.0, -1.0, -1.0, -1.0, 1.0, -1.0, -1.0, 1.0, 1.0, -1.0, -1.0, -1.0, 1.0, 1.0, 1.0, -1.0, -1.0, -1.0, -1.0, -1.0, -1.0, 1.0, 1.0, -1.0, 1.0, -1.0, -1.0, -1.0, 1.0, -1.0, -1.0, -1.0, 1.0, -1.0, -1.0, 1.0, -2.0, -1.0, -1.0, 3.0, 1.0, -2.0, 1.0, -1.0, 1.0, 1.0, 1.0, 1.0, -1.0, -1.0, 1.0, 1.0, -1.0, -1.0, 1.0, 1.0, -1.0, -1.0, 1.0, -1.0, 1.0, 2.0, -1.0, -1.0, 1.0, -1.0, 1.0, -1.0, 1.0, -1.0, 1.0, -1.0, -2.0, 1.0]\n",
            "138\n"
          ],
          "name": "stdout"
        }
      ]
    }
  ]
}